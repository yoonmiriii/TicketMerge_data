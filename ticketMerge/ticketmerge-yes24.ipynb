{
 "cells": [
  {
   "cell_type": "markdown",
   "id": "2378b04c-0683-4efa-8caf-6bbe464cc8f7",
   "metadata": {},
   "source": [
    "##### 요구사항\n",
    "* 공연기간을 시작일과 종료일로 나누어 두 개의 컬럼에 넣기 <br>\n",
    "* 현재일 기준으로 종료된 공연 삭제 <br>\n",
    "* 'URL' 결측치에 기본 프로필 이미지 넣기 <br>\n",
    "* 모든 사이트의 공연데이터를 하나로 합치기 <br>"
   ]
  },
  {
   "cell_type": "code",
   "execution_count": 47,
   "id": "38abbb75-4837-4e88-8b0d-5ba98e105ea8",
   "metadata": {},
   "outputs": [],
   "source": [
    "import pandas as pd\n",
    "import numpy as np"
   ]
  },
  {
   "cell_type": "code",
   "execution_count": 48,
   "id": "c4b5bec9-153b-4a31-a1ed-1abe0f301721",
   "metadata": {},
   "outputs": [],
   "source": [
    "df_yes = pd.read_csv('../ticketMerge/티켓머지_일정데이터/yes24.csv')"
   ]
  },
  {
   "cell_type": "code",
   "execution_count": 49,
   "id": "498c97d9-f307-467d-ad20-2cf7ab9ac806",
   "metadata": {},
   "outputs": [
    {
     "data": {
      "text/html": [
       "<div>\n",
       "<style scoped>\n",
       "    .dataframe tbody tr th:only-of-type {\n",
       "        vertical-align: middle;\n",
       "    }\n",
       "\n",
       "    .dataframe tbody tr th {\n",
       "        vertical-align: top;\n",
       "    }\n",
       "\n",
       "    .dataframe thead th {\n",
       "        text-align: right;\n",
       "    }\n",
       "</style>\n",
       "<table border=\"1\" class=\"dataframe\">\n",
       "  <thead>\n",
       "    <tr style=\"text-align: right;\">\n",
       "      <th></th>\n",
       "      <th>URL</th>\n",
       "      <th>상품 제목</th>\n",
       "      <th>포스터 URL</th>\n",
       "      <th>상세 포스터 URL</th>\n",
       "      <th>공연장소</th>\n",
       "      <th>공연기간</th>\n",
       "      <th>캐스팅 리스트</th>\n",
       "    </tr>\n",
       "  </thead>\n",
       "  <tbody>\n",
       "    <tr>\n",
       "      <th>0</th>\n",
       "      <td>http://ticket.yes24.com/Special/49958</td>\n",
       "      <td>2024 VANNER 1ST ENCORE CONCERT [THE FLAG：A TO ...</td>\n",
       "      <td>http://tkfile.yes24.com/upload2/PerfBlog/20240...</td>\n",
       "      <td>http://tkfile.yes24.com/Upload2/Board/202406/2...</td>\n",
       "      <td>YES24 LIVE HALL</td>\n",
       "      <td>2024.07.27 ~ 2024.07.28</td>\n",
       "      <td>배너(VANNER)</td>\n",
       "    </tr>\n",
       "    <tr>\n",
       "      <th>1</th>\n",
       "      <td>http://ticket.yes24.com/Special/49700</td>\n",
       "      <td>THE BOYZ WORLD TOUR : ZENERATION Ⅱ</td>\n",
       "      <td>http://tkfile.yes24.com/upload2/PerfBlog/20240...</td>\n",
       "      <td>http://tkfile.yes24.com/Upload2/Board/202405/2...</td>\n",
       "      <td>KSPO DOME(올림픽체조경기장)</td>\n",
       "      <td>2024.07.12 ~ 2024.07.14</td>\n",
       "      <td>더보이즈 (THE BOYZ)</td>\n",
       "    </tr>\n",
       "  </tbody>\n",
       "</table>\n",
       "</div>"
      ],
      "text/plain": [
       "                                     URL  \\\n",
       "0  http://ticket.yes24.com/Special/49958   \n",
       "1  http://ticket.yes24.com/Special/49700   \n",
       "\n",
       "                                               상품 제목  \\\n",
       "0  2024 VANNER 1ST ENCORE CONCERT [THE FLAG：A TO ...   \n",
       "1                 THE BOYZ WORLD TOUR : ZENERATION Ⅱ   \n",
       "\n",
       "                                             포스터 URL  \\\n",
       "0  http://tkfile.yes24.com/upload2/PerfBlog/20240...   \n",
       "1  http://tkfile.yes24.com/upload2/PerfBlog/20240...   \n",
       "\n",
       "                                          상세 포스터 URL                 공연장소  \\\n",
       "0  http://tkfile.yes24.com/Upload2/Board/202406/2...      YES24 LIVE HALL   \n",
       "1  http://tkfile.yes24.com/Upload2/Board/202405/2...  KSPO DOME(올림픽체조경기장)   \n",
       "\n",
       "                      공연기간          캐스팅 리스트  \n",
       "0  2024.07.27 ~ 2024.07.28       배너(VANNER)  \n",
       "1  2024.07.12 ~ 2024.07.14  더보이즈 (THE BOYZ)  "
      ]
     },
     "execution_count": 49,
     "metadata": {},
     "output_type": "execute_result"
    }
   ],
   "source": [
    "df_yes.head(2)"
   ]
  },
  {
   "cell_type": "code",
   "execution_count": 50,
   "id": "8d9d0083-7aff-42d3-a69d-ed70261d2890",
   "metadata": {},
   "outputs": [],
   "source": [
    "# 다른 데이터와 동일하게 컬럼순서와 컬럼명 맞추기\n",
    "# url 컬럼과 같은 값을 갖는 '해당 링크' 컬럼을 추가로 만들기->url 컬럼 삭제하기"
   ]
  },
  {
   "cell_type": "code",
   "execution_count": 51,
   "id": "3e7fede2-f0c0-4e31-a489-be638b4fc428",
   "metadata": {},
   "outputs": [],
   "source": [
    "df_yes['해당 링크'] = df_yes['URL']"
   ]
  },
  {
   "cell_type": "code",
   "execution_count": 52,
   "id": "0c1528e2-9733-4847-9acb-a04e0b441867",
   "metadata": {},
   "outputs": [
    {
     "data": {
      "text/html": [
       "<div>\n",
       "<style scoped>\n",
       "    .dataframe tbody tr th:only-of-type {\n",
       "        vertical-align: middle;\n",
       "    }\n",
       "\n",
       "    .dataframe tbody tr th {\n",
       "        vertical-align: top;\n",
       "    }\n",
       "\n",
       "    .dataframe thead th {\n",
       "        text-align: right;\n",
       "    }\n",
       "</style>\n",
       "<table border=\"1\" class=\"dataframe\">\n",
       "  <thead>\n",
       "    <tr style=\"text-align: right;\">\n",
       "      <th></th>\n",
       "      <th>URL</th>\n",
       "      <th>상품 제목</th>\n",
       "      <th>포스터 URL</th>\n",
       "      <th>상세 포스터 URL</th>\n",
       "      <th>공연장소</th>\n",
       "      <th>공연기간</th>\n",
       "      <th>캐스팅 리스트</th>\n",
       "      <th>해당 링크</th>\n",
       "    </tr>\n",
       "  </thead>\n",
       "  <tbody>\n",
       "    <tr>\n",
       "      <th>0</th>\n",
       "      <td>http://ticket.yes24.com/Special/49958</td>\n",
       "      <td>2024 VANNER 1ST ENCORE CONCERT [THE FLAG：A TO ...</td>\n",
       "      <td>http://tkfile.yes24.com/upload2/PerfBlog/20240...</td>\n",
       "      <td>http://tkfile.yes24.com/Upload2/Board/202406/2...</td>\n",
       "      <td>YES24 LIVE HALL</td>\n",
       "      <td>2024.07.27 ~ 2024.07.28</td>\n",
       "      <td>배너(VANNER)</td>\n",
       "      <td>http://ticket.yes24.com/Special/49958</td>\n",
       "    </tr>\n",
       "    <tr>\n",
       "      <th>1</th>\n",
       "      <td>http://ticket.yes24.com/Special/49700</td>\n",
       "      <td>THE BOYZ WORLD TOUR : ZENERATION Ⅱ</td>\n",
       "      <td>http://tkfile.yes24.com/upload2/PerfBlog/20240...</td>\n",
       "      <td>http://tkfile.yes24.com/Upload2/Board/202405/2...</td>\n",
       "      <td>KSPO DOME(올림픽체조경기장)</td>\n",
       "      <td>2024.07.12 ~ 2024.07.14</td>\n",
       "      <td>더보이즈 (THE BOYZ)</td>\n",
       "      <td>http://ticket.yes24.com/Special/49700</td>\n",
       "    </tr>\n",
       "  </tbody>\n",
       "</table>\n",
       "</div>"
      ],
      "text/plain": [
       "                                     URL  \\\n",
       "0  http://ticket.yes24.com/Special/49958   \n",
       "1  http://ticket.yes24.com/Special/49700   \n",
       "\n",
       "                                               상품 제목  \\\n",
       "0  2024 VANNER 1ST ENCORE CONCERT [THE FLAG：A TO ...   \n",
       "1                 THE BOYZ WORLD TOUR : ZENERATION Ⅱ   \n",
       "\n",
       "                                             포스터 URL  \\\n",
       "0  http://tkfile.yes24.com/upload2/PerfBlog/20240...   \n",
       "1  http://tkfile.yes24.com/upload2/PerfBlog/20240...   \n",
       "\n",
       "                                          상세 포스터 URL                 공연장소  \\\n",
       "0  http://tkfile.yes24.com/Upload2/Board/202406/2...      YES24 LIVE HALL   \n",
       "1  http://tkfile.yes24.com/Upload2/Board/202405/2...  KSPO DOME(올림픽체조경기장)   \n",
       "\n",
       "                      공연기간          캐스팅 리스트  \\\n",
       "0  2024.07.27 ~ 2024.07.28       배너(VANNER)   \n",
       "1  2024.07.12 ~ 2024.07.14  더보이즈 (THE BOYZ)   \n",
       "\n",
       "                                   해당 링크  \n",
       "0  http://ticket.yes24.com/Special/49958  \n",
       "1  http://ticket.yes24.com/Special/49700  "
      ]
     },
     "execution_count": 52,
     "metadata": {},
     "output_type": "execute_result"
    }
   ],
   "source": [
    "df_yes.head(2)"
   ]
  },
  {
   "cell_type": "code",
   "execution_count": 53,
   "id": "cad11f5e-0456-4a81-b3e0-6ec4b7931d32",
   "metadata": {},
   "outputs": [],
   "source": [
    "df_yes = df_yes.drop(columns='URL')"
   ]
  },
  {
   "cell_type": "code",
   "execution_count": 54,
   "id": "c25971a9-a8d4-488a-b0b7-d771956b3ea7",
   "metadata": {},
   "outputs": [
    {
     "data": {
      "text/html": [
       "<div>\n",
       "<style scoped>\n",
       "    .dataframe tbody tr th:only-of-type {\n",
       "        vertical-align: middle;\n",
       "    }\n",
       "\n",
       "    .dataframe tbody tr th {\n",
       "        vertical-align: top;\n",
       "    }\n",
       "\n",
       "    .dataframe thead th {\n",
       "        text-align: right;\n",
       "    }\n",
       "</style>\n",
       "<table border=\"1\" class=\"dataframe\">\n",
       "  <thead>\n",
       "    <tr style=\"text-align: right;\">\n",
       "      <th></th>\n",
       "      <th>상품 제목</th>\n",
       "      <th>포스터 URL</th>\n",
       "      <th>상세 포스터 URL</th>\n",
       "      <th>공연장소</th>\n",
       "      <th>공연기간</th>\n",
       "      <th>캐스팅 리스트</th>\n",
       "      <th>해당 링크</th>\n",
       "    </tr>\n",
       "  </thead>\n",
       "  <tbody>\n",
       "    <tr>\n",
       "      <th>0</th>\n",
       "      <td>2024 VANNER 1ST ENCORE CONCERT [THE FLAG：A TO ...</td>\n",
       "      <td>http://tkfile.yes24.com/upload2/PerfBlog/20240...</td>\n",
       "      <td>http://tkfile.yes24.com/Upload2/Board/202406/2...</td>\n",
       "      <td>YES24 LIVE HALL</td>\n",
       "      <td>2024.07.27 ~ 2024.07.28</td>\n",
       "      <td>배너(VANNER)</td>\n",
       "      <td>http://ticket.yes24.com/Special/49958</td>\n",
       "    </tr>\n",
       "    <tr>\n",
       "      <th>1</th>\n",
       "      <td>THE BOYZ WORLD TOUR : ZENERATION Ⅱ</td>\n",
       "      <td>http://tkfile.yes24.com/upload2/PerfBlog/20240...</td>\n",
       "      <td>http://tkfile.yes24.com/Upload2/Board/202405/2...</td>\n",
       "      <td>KSPO DOME(올림픽체조경기장)</td>\n",
       "      <td>2024.07.12 ~ 2024.07.14</td>\n",
       "      <td>더보이즈 (THE BOYZ)</td>\n",
       "      <td>http://ticket.yes24.com/Special/49700</td>\n",
       "    </tr>\n",
       "  </tbody>\n",
       "</table>\n",
       "</div>"
      ],
      "text/plain": [
       "                                               상품 제목  \\\n",
       "0  2024 VANNER 1ST ENCORE CONCERT [THE FLAG：A TO ...   \n",
       "1                 THE BOYZ WORLD TOUR : ZENERATION Ⅱ   \n",
       "\n",
       "                                             포스터 URL  \\\n",
       "0  http://tkfile.yes24.com/upload2/PerfBlog/20240...   \n",
       "1  http://tkfile.yes24.com/upload2/PerfBlog/20240...   \n",
       "\n",
       "                                          상세 포스터 URL                 공연장소  \\\n",
       "0  http://tkfile.yes24.com/Upload2/Board/202406/2...      YES24 LIVE HALL   \n",
       "1  http://tkfile.yes24.com/Upload2/Board/202405/2...  KSPO DOME(올림픽체조경기장)   \n",
       "\n",
       "                      공연기간          캐스팅 리스트  \\\n",
       "0  2024.07.27 ~ 2024.07.28       배너(VANNER)   \n",
       "1  2024.07.12 ~ 2024.07.14  더보이즈 (THE BOYZ)   \n",
       "\n",
       "                                   해당 링크  \n",
       "0  http://ticket.yes24.com/Special/49958  \n",
       "1  http://ticket.yes24.com/Special/49700  "
      ]
     },
     "execution_count": 54,
     "metadata": {},
     "output_type": "execute_result"
    }
   ],
   "source": [
    "df_yes.head(2)"
   ]
  },
  {
   "cell_type": "code",
   "execution_count": 55,
   "id": "155dfd42-622f-4521-b63b-22c4b43bde07",
   "metadata": {},
   "outputs": [],
   "source": [
    "# 결측치 확인하기"
   ]
  },
  {
   "cell_type": "code",
   "execution_count": 56,
   "id": "afce7e83-42fa-4472-9407-46d4a43ad54b",
   "metadata": {},
   "outputs": [
    {
     "data": {
      "text/plain": [
       "상품 제목         0\n",
       "포스터 URL       0\n",
       "상세 포스터 URL    0\n",
       "공연장소          0\n",
       "공연기간          0\n",
       "캐스팅 리스트       5\n",
       "해당 링크         0\n",
       "dtype: int64"
      ]
     },
     "execution_count": 56,
     "metadata": {},
     "output_type": "execute_result"
    }
   ],
   "source": [
    "df_yes.isna().sum()"
   ]
  },
  {
   "cell_type": "code",
   "execution_count": 57,
   "id": "db8eb322-f8f2-4281-9529-13281ef4d508",
   "metadata": {},
   "outputs": [],
   "source": [
    "# 공연시간을 안전하게 dt_yes 로 별도 저장하여 시작일과 종료일 두 컬럼으로 분리하여 넣어주기"
   ]
  },
  {
   "cell_type": "code",
   "execution_count": 58,
   "id": "24999dc7-6f5d-4db6-adab-a89b74a03214",
   "metadata": {},
   "outputs": [],
   "source": [
    "dt_yes = pd.DataFrame(df_yes['공연기간'])"
   ]
  },
  {
   "cell_type": "code",
   "execution_count": 59,
   "id": "eeae7ea8-caa4-4196-bc0e-d1b203fd9df3",
   "metadata": {},
   "outputs": [
    {
     "data": {
      "text/html": [
       "<div>\n",
       "<style scoped>\n",
       "    .dataframe tbody tr th:only-of-type {\n",
       "        vertical-align: middle;\n",
       "    }\n",
       "\n",
       "    .dataframe tbody tr th {\n",
       "        vertical-align: top;\n",
       "    }\n",
       "\n",
       "    .dataframe thead th {\n",
       "        text-align: right;\n",
       "    }\n",
       "</style>\n",
       "<table border=\"1\" class=\"dataframe\">\n",
       "  <thead>\n",
       "    <tr style=\"text-align: right;\">\n",
       "      <th></th>\n",
       "      <th>공연기간</th>\n",
       "    </tr>\n",
       "  </thead>\n",
       "  <tbody>\n",
       "    <tr>\n",
       "      <th>0</th>\n",
       "      <td>2024.07.27 ~ 2024.07.28</td>\n",
       "    </tr>\n",
       "    <tr>\n",
       "      <th>1</th>\n",
       "      <td>2024.07.12 ~ 2024.07.14</td>\n",
       "    </tr>\n",
       "    <tr>\n",
       "      <th>2</th>\n",
       "      <td>2024.07.27 ~ 2024.07.28</td>\n",
       "    </tr>\n",
       "    <tr>\n",
       "      <th>3</th>\n",
       "      <td>2024.07.21 ~ 2024.07.21</td>\n",
       "    </tr>\n",
       "    <tr>\n",
       "      <th>4</th>\n",
       "      <td>2024.07.20 ~ 2024.07.20</td>\n",
       "    </tr>\n",
       "    <tr>\n",
       "      <th>...</th>\n",
       "      <td>...</td>\n",
       "    </tr>\n",
       "    <tr>\n",
       "      <th>81</th>\n",
       "      <td>2024.07.27 ~ 2024.07.27</td>\n",
       "    </tr>\n",
       "    <tr>\n",
       "      <th>82</th>\n",
       "      <td>2024.09.13 ~ 2024.09.14</td>\n",
       "    </tr>\n",
       "    <tr>\n",
       "      <th>83</th>\n",
       "      <td>2024.08.28 ~ 2024.08.28</td>\n",
       "    </tr>\n",
       "    <tr>\n",
       "      <th>84</th>\n",
       "      <td>2024.08.17 ~ 2024.08.17</td>\n",
       "    </tr>\n",
       "    <tr>\n",
       "      <th>85</th>\n",
       "      <td>2024.02.26 ~ 2024.03.10</td>\n",
       "    </tr>\n",
       "  </tbody>\n",
       "</table>\n",
       "<p>86 rows × 1 columns</p>\n",
       "</div>"
      ],
      "text/plain": [
       "                       공연기간\n",
       "0   2024.07.27 ~ 2024.07.28\n",
       "1   2024.07.12 ~ 2024.07.14\n",
       "2   2024.07.27 ~ 2024.07.28\n",
       "3   2024.07.21 ~ 2024.07.21\n",
       "4   2024.07.20 ~ 2024.07.20\n",
       "..                      ...\n",
       "81  2024.07.27 ~ 2024.07.27\n",
       "82  2024.09.13 ~ 2024.09.14\n",
       "83  2024.08.28 ~ 2024.08.28\n",
       "84  2024.08.17 ~ 2024.08.17\n",
       "85  2024.02.26 ~ 2024.03.10\n",
       "\n",
       "[86 rows x 1 columns]"
      ]
     },
     "execution_count": 59,
     "metadata": {},
     "output_type": "execute_result"
    }
   ],
   "source": [
    "dt_yes"
   ]
  },
  {
   "cell_type": "code",
   "execution_count": 60,
   "id": "7b4b6228-8f6c-4dc7-8ea8-2e0f9c87f7dc",
   "metadata": {},
   "outputs": [],
   "source": [
    "# \"~\"를 기준으로 공연기간을 분리 -> 시작일과 종료일로 나누기"
   ]
  },
  {
   "cell_type": "code",
   "execution_count": 61,
   "id": "b1656903-7aa4-418e-b5e4-21aeb46aaa88",
   "metadata": {},
   "outputs": [],
   "source": [
    "dt_yes = dt_yes[['시작일', '종료일']] = dt_yes['공연기간'].str.split(' ~ ', expand=True)"
   ]
  },
  {
   "cell_type": "code",
   "execution_count": 62,
   "id": "af95cf8d-034d-4b12-9002-560ca3695947",
   "metadata": {},
   "outputs": [
    {
     "data": {
      "text/html": [
       "<div>\n",
       "<style scoped>\n",
       "    .dataframe tbody tr th:only-of-type {\n",
       "        vertical-align: middle;\n",
       "    }\n",
       "\n",
       "    .dataframe tbody tr th {\n",
       "        vertical-align: top;\n",
       "    }\n",
       "\n",
       "    .dataframe thead th {\n",
       "        text-align: right;\n",
       "    }\n",
       "</style>\n",
       "<table border=\"1\" class=\"dataframe\">\n",
       "  <thead>\n",
       "    <tr style=\"text-align: right;\">\n",
       "      <th></th>\n",
       "      <th>0</th>\n",
       "      <th>1</th>\n",
       "      <th>시작일</th>\n",
       "      <th>종료일</th>\n",
       "    </tr>\n",
       "  </thead>\n",
       "  <tbody>\n",
       "    <tr>\n",
       "      <th>0</th>\n",
       "      <td>2024.07.27</td>\n",
       "      <td>2024.07.28</td>\n",
       "      <td>2024.07.27</td>\n",
       "      <td>2024.07.28</td>\n",
       "    </tr>\n",
       "    <tr>\n",
       "      <th>1</th>\n",
       "      <td>2024.07.12</td>\n",
       "      <td>2024.07.14</td>\n",
       "      <td>2024.07.12</td>\n",
       "      <td>2024.07.14</td>\n",
       "    </tr>\n",
       "    <tr>\n",
       "      <th>2</th>\n",
       "      <td>2024.07.27</td>\n",
       "      <td>2024.07.28</td>\n",
       "      <td>2024.07.27</td>\n",
       "      <td>2024.07.28</td>\n",
       "    </tr>\n",
       "    <tr>\n",
       "      <th>3</th>\n",
       "      <td>2024.07.21</td>\n",
       "      <td>2024.07.21</td>\n",
       "      <td>2024.07.21</td>\n",
       "      <td>2024.07.21</td>\n",
       "    </tr>\n",
       "    <tr>\n",
       "      <th>4</th>\n",
       "      <td>2024.07.20</td>\n",
       "      <td>2024.07.20</td>\n",
       "      <td>2024.07.20</td>\n",
       "      <td>2024.07.20</td>\n",
       "    </tr>\n",
       "    <tr>\n",
       "      <th>...</th>\n",
       "      <td>...</td>\n",
       "      <td>...</td>\n",
       "      <td>...</td>\n",
       "      <td>...</td>\n",
       "    </tr>\n",
       "    <tr>\n",
       "      <th>81</th>\n",
       "      <td>2024.07.27</td>\n",
       "      <td>2024.07.27</td>\n",
       "      <td>2024.07.27</td>\n",
       "      <td>2024.07.27</td>\n",
       "    </tr>\n",
       "    <tr>\n",
       "      <th>82</th>\n",
       "      <td>2024.09.13</td>\n",
       "      <td>2024.09.14</td>\n",
       "      <td>2024.09.13</td>\n",
       "      <td>2024.09.14</td>\n",
       "    </tr>\n",
       "    <tr>\n",
       "      <th>83</th>\n",
       "      <td>2024.08.28</td>\n",
       "      <td>2024.08.28</td>\n",
       "      <td>2024.08.28</td>\n",
       "      <td>2024.08.28</td>\n",
       "    </tr>\n",
       "    <tr>\n",
       "      <th>84</th>\n",
       "      <td>2024.08.17</td>\n",
       "      <td>2024.08.17</td>\n",
       "      <td>2024.08.17</td>\n",
       "      <td>2024.08.17</td>\n",
       "    </tr>\n",
       "    <tr>\n",
       "      <th>85</th>\n",
       "      <td>2024.02.26</td>\n",
       "      <td>2024.03.10</td>\n",
       "      <td>2024.02.26</td>\n",
       "      <td>2024.03.10</td>\n",
       "    </tr>\n",
       "  </tbody>\n",
       "</table>\n",
       "<p>86 rows × 4 columns</p>\n",
       "</div>"
      ],
      "text/plain": [
       "             0           1         시작일         종료일\n",
       "0   2024.07.27  2024.07.28  2024.07.27  2024.07.28\n",
       "1   2024.07.12  2024.07.14  2024.07.12  2024.07.14\n",
       "2   2024.07.27  2024.07.28  2024.07.27  2024.07.28\n",
       "3   2024.07.21  2024.07.21  2024.07.21  2024.07.21\n",
       "4   2024.07.20  2024.07.20  2024.07.20  2024.07.20\n",
       "..         ...         ...         ...         ...\n",
       "81  2024.07.27  2024.07.27  2024.07.27  2024.07.27\n",
       "82  2024.09.13  2024.09.14  2024.09.13  2024.09.14\n",
       "83  2024.08.28  2024.08.28  2024.08.28  2024.08.28\n",
       "84  2024.08.17  2024.08.17  2024.08.17  2024.08.17\n",
       "85  2024.02.26  2024.03.10  2024.02.26  2024.03.10\n",
       "\n",
       "[86 rows x 4 columns]"
      ]
     },
     "execution_count": 62,
     "metadata": {},
     "output_type": "execute_result"
    }
   ],
   "source": [
    "dt_yes"
   ]
  },
  {
   "cell_type": "code",
   "execution_count": 63,
   "id": "3b78a1dc-b4d1-43c2-a63b-02a315f31371",
   "metadata": {},
   "outputs": [],
   "source": [
    "# 필요 없어진 '공연기간' 컬럼 삭제\n",
    "dt_yes = dt_yes.drop(columns=[0,1])"
   ]
  },
  {
   "cell_type": "code",
   "execution_count": 64,
   "id": "0e98aac1-4210-41ad-b67d-d1bb487cb807",
   "metadata": {},
   "outputs": [
    {
     "data": {
      "text/html": [
       "<div>\n",
       "<style scoped>\n",
       "    .dataframe tbody tr th:only-of-type {\n",
       "        vertical-align: middle;\n",
       "    }\n",
       "\n",
       "    .dataframe tbody tr th {\n",
       "        vertical-align: top;\n",
       "    }\n",
       "\n",
       "    .dataframe thead th {\n",
       "        text-align: right;\n",
       "    }\n",
       "</style>\n",
       "<table border=\"1\" class=\"dataframe\">\n",
       "  <thead>\n",
       "    <tr style=\"text-align: right;\">\n",
       "      <th></th>\n",
       "      <th>시작일</th>\n",
       "      <th>종료일</th>\n",
       "    </tr>\n",
       "  </thead>\n",
       "  <tbody>\n",
       "    <tr>\n",
       "      <th>0</th>\n",
       "      <td>2024.07.27</td>\n",
       "      <td>2024.07.28</td>\n",
       "    </tr>\n",
       "    <tr>\n",
       "      <th>1</th>\n",
       "      <td>2024.07.12</td>\n",
       "      <td>2024.07.14</td>\n",
       "    </tr>\n",
       "    <tr>\n",
       "      <th>2</th>\n",
       "      <td>2024.07.27</td>\n",
       "      <td>2024.07.28</td>\n",
       "    </tr>\n",
       "    <tr>\n",
       "      <th>3</th>\n",
       "      <td>2024.07.21</td>\n",
       "      <td>2024.07.21</td>\n",
       "    </tr>\n",
       "    <tr>\n",
       "      <th>4</th>\n",
       "      <td>2024.07.20</td>\n",
       "      <td>2024.07.20</td>\n",
       "    </tr>\n",
       "    <tr>\n",
       "      <th>...</th>\n",
       "      <td>...</td>\n",
       "      <td>...</td>\n",
       "    </tr>\n",
       "    <tr>\n",
       "      <th>81</th>\n",
       "      <td>2024.07.27</td>\n",
       "      <td>2024.07.27</td>\n",
       "    </tr>\n",
       "    <tr>\n",
       "      <th>82</th>\n",
       "      <td>2024.09.13</td>\n",
       "      <td>2024.09.14</td>\n",
       "    </tr>\n",
       "    <tr>\n",
       "      <th>83</th>\n",
       "      <td>2024.08.28</td>\n",
       "      <td>2024.08.28</td>\n",
       "    </tr>\n",
       "    <tr>\n",
       "      <th>84</th>\n",
       "      <td>2024.08.17</td>\n",
       "      <td>2024.08.17</td>\n",
       "    </tr>\n",
       "    <tr>\n",
       "      <th>85</th>\n",
       "      <td>2024.02.26</td>\n",
       "      <td>2024.03.10</td>\n",
       "    </tr>\n",
       "  </tbody>\n",
       "</table>\n",
       "<p>86 rows × 2 columns</p>\n",
       "</div>"
      ],
      "text/plain": [
       "           시작일         종료일\n",
       "0   2024.07.27  2024.07.28\n",
       "1   2024.07.12  2024.07.14\n",
       "2   2024.07.27  2024.07.28\n",
       "3   2024.07.21  2024.07.21\n",
       "4   2024.07.20  2024.07.20\n",
       "..         ...         ...\n",
       "81  2024.07.27  2024.07.27\n",
       "82  2024.09.13  2024.09.14\n",
       "83  2024.08.28  2024.08.28\n",
       "84  2024.08.17  2024.08.17\n",
       "85  2024.02.26  2024.03.10\n",
       "\n",
       "[86 rows x 2 columns]"
      ]
     },
     "execution_count": 64,
     "metadata": {},
     "output_type": "execute_result"
    }
   ],
   "source": [
    "dt_yes"
   ]
  },
  {
   "cell_type": "code",
   "execution_count": 65,
   "id": "5ba2db62-c5a9-4b8f-98c2-783efe7c6249",
   "metadata": {},
   "outputs": [],
   "source": [
    "# 시작일과 종료일의 결측치 확인하기"
   ]
  },
  {
   "cell_type": "code",
   "execution_count": 66,
   "id": "98a0c350-7e4b-4fac-8b5c-836c4728d347",
   "metadata": {},
   "outputs": [
    {
     "data": {
      "text/plain": [
       "시작일    0\n",
       "종료일    0\n",
       "dtype: int64"
      ]
     },
     "execution_count": 66,
     "metadata": {},
     "output_type": "execute_result"
    }
   ],
   "source": [
    "dt_yes.isna().sum()"
   ]
  },
  {
   "cell_type": "code",
   "execution_count": 67,
   "id": "8304e111-7939-4fda-9ce6-f18804a44f78",
   "metadata": {},
   "outputs": [],
   "source": [
    "# 원래 데이터에 시작일과 종료일 합치기"
   ]
  },
  {
   "cell_type": "code",
   "execution_count": 68,
   "id": "9cf57b21-de9f-4d95-83fc-6e543073897c",
   "metadata": {},
   "outputs": [],
   "source": [
    "df_yes = pd.concat([df_yes, dt_yes], axis=1)"
   ]
  },
  {
   "cell_type": "code",
   "execution_count": 69,
   "id": "bfced813-267a-48e1-8daf-7c9a1498663b",
   "metadata": {},
   "outputs": [
    {
     "data": {
      "text/html": [
       "<div>\n",
       "<style scoped>\n",
       "    .dataframe tbody tr th:only-of-type {\n",
       "        vertical-align: middle;\n",
       "    }\n",
       "\n",
       "    .dataframe tbody tr th {\n",
       "        vertical-align: top;\n",
       "    }\n",
       "\n",
       "    .dataframe thead th {\n",
       "        text-align: right;\n",
       "    }\n",
       "</style>\n",
       "<table border=\"1\" class=\"dataframe\">\n",
       "  <thead>\n",
       "    <tr style=\"text-align: right;\">\n",
       "      <th></th>\n",
       "      <th>상품 제목</th>\n",
       "      <th>포스터 URL</th>\n",
       "      <th>상세 포스터 URL</th>\n",
       "      <th>공연장소</th>\n",
       "      <th>공연기간</th>\n",
       "      <th>캐스팅 리스트</th>\n",
       "      <th>해당 링크</th>\n",
       "      <th>시작일</th>\n",
       "      <th>종료일</th>\n",
       "    </tr>\n",
       "  </thead>\n",
       "  <tbody>\n",
       "    <tr>\n",
       "      <th>0</th>\n",
       "      <td>2024 VANNER 1ST ENCORE CONCERT [THE FLAG：A TO ...</td>\n",
       "      <td>http://tkfile.yes24.com/upload2/PerfBlog/20240...</td>\n",
       "      <td>http://tkfile.yes24.com/Upload2/Board/202406/2...</td>\n",
       "      <td>YES24 LIVE HALL</td>\n",
       "      <td>2024.07.27 ~ 2024.07.28</td>\n",
       "      <td>배너(VANNER)</td>\n",
       "      <td>http://ticket.yes24.com/Special/49958</td>\n",
       "      <td>2024.07.27</td>\n",
       "      <td>2024.07.28</td>\n",
       "    </tr>\n",
       "  </tbody>\n",
       "</table>\n",
       "</div>"
      ],
      "text/plain": [
       "                                               상품 제목  \\\n",
       "0  2024 VANNER 1ST ENCORE CONCERT [THE FLAG：A TO ...   \n",
       "\n",
       "                                             포스터 URL  \\\n",
       "0  http://tkfile.yes24.com/upload2/PerfBlog/20240...   \n",
       "\n",
       "                                          상세 포스터 URL             공연장소  \\\n",
       "0  http://tkfile.yes24.com/Upload2/Board/202406/2...  YES24 LIVE HALL   \n",
       "\n",
       "                      공연기간     캐스팅 리스트                                  해당 링크  \\\n",
       "0  2024.07.27 ~ 2024.07.28  배너(VANNER)  http://ticket.yes24.com/Special/49958   \n",
       "\n",
       "          시작일         종료일  \n",
       "0  2024.07.27  2024.07.28  "
      ]
     },
     "execution_count": 69,
     "metadata": {},
     "output_type": "execute_result"
    }
   ],
   "source": [
    "df_yes.head(1)"
   ]
  },
  {
   "cell_type": "code",
   "execution_count": 70,
   "id": "a25c0372-dd9d-4113-8f0c-e86e8dfba72d",
   "metadata": {},
   "outputs": [],
   "source": [
    "# 공연기간 컬럼 삭제하기"
   ]
  },
  {
   "cell_type": "code",
   "execution_count": 71,
   "id": "5d638ef0-62c4-4a95-b1dd-2d882afbb5bb",
   "metadata": {},
   "outputs": [],
   "source": [
    "df_yes = df_yes.drop(columns=['공연기간'])"
   ]
  },
  {
   "cell_type": "code",
   "execution_count": 72,
   "id": "ee80069b-dd7b-4b4c-8f0d-32cdf346d454",
   "metadata": {},
   "outputs": [
    {
     "data": {
      "text/html": [
       "<div>\n",
       "<style scoped>\n",
       "    .dataframe tbody tr th:only-of-type {\n",
       "        vertical-align: middle;\n",
       "    }\n",
       "\n",
       "    .dataframe tbody tr th {\n",
       "        vertical-align: top;\n",
       "    }\n",
       "\n",
       "    .dataframe thead th {\n",
       "        text-align: right;\n",
       "    }\n",
       "</style>\n",
       "<table border=\"1\" class=\"dataframe\">\n",
       "  <thead>\n",
       "    <tr style=\"text-align: right;\">\n",
       "      <th></th>\n",
       "      <th>상품 제목</th>\n",
       "      <th>포스터 URL</th>\n",
       "      <th>상세 포스터 URL</th>\n",
       "      <th>공연장소</th>\n",
       "      <th>캐스팅 리스트</th>\n",
       "      <th>해당 링크</th>\n",
       "      <th>시작일</th>\n",
       "      <th>종료일</th>\n",
       "    </tr>\n",
       "  </thead>\n",
       "  <tbody>\n",
       "    <tr>\n",
       "      <th>0</th>\n",
       "      <td>2024 VANNER 1ST ENCORE CONCERT [THE FLAG：A TO ...</td>\n",
       "      <td>http://tkfile.yes24.com/upload2/PerfBlog/20240...</td>\n",
       "      <td>http://tkfile.yes24.com/Upload2/Board/202406/2...</td>\n",
       "      <td>YES24 LIVE HALL</td>\n",
       "      <td>배너(VANNER)</td>\n",
       "      <td>http://ticket.yes24.com/Special/49958</td>\n",
       "      <td>2024.07.27</td>\n",
       "      <td>2024.07.28</td>\n",
       "    </tr>\n",
       "    <tr>\n",
       "      <th>1</th>\n",
       "      <td>THE BOYZ WORLD TOUR : ZENERATION Ⅱ</td>\n",
       "      <td>http://tkfile.yes24.com/upload2/PerfBlog/20240...</td>\n",
       "      <td>http://tkfile.yes24.com/Upload2/Board/202405/2...</td>\n",
       "      <td>KSPO DOME(올림픽체조경기장)</td>\n",
       "      <td>더보이즈 (THE BOYZ)</td>\n",
       "      <td>http://ticket.yes24.com/Special/49700</td>\n",
       "      <td>2024.07.12</td>\n",
       "      <td>2024.07.14</td>\n",
       "    </tr>\n",
       "  </tbody>\n",
       "</table>\n",
       "</div>"
      ],
      "text/plain": [
       "                                               상품 제목  \\\n",
       "0  2024 VANNER 1ST ENCORE CONCERT [THE FLAG：A TO ...   \n",
       "1                 THE BOYZ WORLD TOUR : ZENERATION Ⅱ   \n",
       "\n",
       "                                             포스터 URL  \\\n",
       "0  http://tkfile.yes24.com/upload2/PerfBlog/20240...   \n",
       "1  http://tkfile.yes24.com/upload2/PerfBlog/20240...   \n",
       "\n",
       "                                          상세 포스터 URL                 공연장소  \\\n",
       "0  http://tkfile.yes24.com/Upload2/Board/202406/2...      YES24 LIVE HALL   \n",
       "1  http://tkfile.yes24.com/Upload2/Board/202405/2...  KSPO DOME(올림픽체조경기장)   \n",
       "\n",
       "           캐스팅 리스트                                  해당 링크         시작일  \\\n",
       "0       배너(VANNER)  http://ticket.yes24.com/Special/49958  2024.07.27   \n",
       "1  더보이즈 (THE BOYZ)  http://ticket.yes24.com/Special/49700  2024.07.12   \n",
       "\n",
       "          종료일  \n",
       "0  2024.07.28  \n",
       "1  2024.07.14  "
      ]
     },
     "execution_count": 72,
     "metadata": {},
     "output_type": "execute_result"
    }
   ],
   "source": [
    "df_yes.head(2)"
   ]
  },
  {
   "cell_type": "code",
   "execution_count": 73,
   "id": "405de73d-9d0f-495a-ad75-39af2cdaeb61",
   "metadata": {},
   "outputs": [],
   "source": [
    "# 종료일을 'date' 데이터 타입으로 변환하고 현재일 기준으로, 종료된 공연 삭제하기"
   ]
  },
  {
   "cell_type": "code",
   "execution_count": 74,
   "id": "a64da3b2-8383-4206-9afa-c318b1ae851e",
   "metadata": {},
   "outputs": [
    {
     "data": {
      "text/plain": [
       "0    2024-07-28\n",
       "1    2024-07-14\n",
       "2    2024-07-28\n",
       "3    2024-07-21\n",
       "4    2024-07-20\n",
       "        ...    \n",
       "81   2024-07-27\n",
       "82   2024-09-14\n",
       "83   2024-08-28\n",
       "84   2024-08-17\n",
       "85   2024-03-10\n",
       "Name: 종료일, Length: 86, dtype: datetime64[ns]"
      ]
     },
     "execution_count": 74,
     "metadata": {},
     "output_type": "execute_result"
    }
   ],
   "source": [
    "pd.to_datetime(df_yes['종료일'])"
   ]
  },
  {
   "cell_type": "code",
   "execution_count": 75,
   "id": "49298fbb-ffcb-4116-ac05-4318761cdc5b",
   "metadata": {},
   "outputs": [],
   "source": [
    "df_yes['종료일_date'] = pd.to_datetime(df_yes['종료일'])"
   ]
  },
  {
   "cell_type": "code",
   "execution_count": 76,
   "id": "b328f9e2-d499-4507-a0e4-34f84e39ee14",
   "metadata": {},
   "outputs": [
    {
     "data": {
      "text/html": [
       "<div>\n",
       "<style scoped>\n",
       "    .dataframe tbody tr th:only-of-type {\n",
       "        vertical-align: middle;\n",
       "    }\n",
       "\n",
       "    .dataframe tbody tr th {\n",
       "        vertical-align: top;\n",
       "    }\n",
       "\n",
       "    .dataframe thead th {\n",
       "        text-align: right;\n",
       "    }\n",
       "</style>\n",
       "<table border=\"1\" class=\"dataframe\">\n",
       "  <thead>\n",
       "    <tr style=\"text-align: right;\">\n",
       "      <th></th>\n",
       "      <th>상품 제목</th>\n",
       "      <th>포스터 URL</th>\n",
       "      <th>상세 포스터 URL</th>\n",
       "      <th>공연장소</th>\n",
       "      <th>캐스팅 리스트</th>\n",
       "      <th>해당 링크</th>\n",
       "      <th>시작일</th>\n",
       "      <th>종료일</th>\n",
       "      <th>종료일_date</th>\n",
       "    </tr>\n",
       "  </thead>\n",
       "  <tbody>\n",
       "    <tr>\n",
       "      <th>0</th>\n",
       "      <td>2024 VANNER 1ST ENCORE CONCERT [THE FLAG：A TO ...</td>\n",
       "      <td>http://tkfile.yes24.com/upload2/PerfBlog/20240...</td>\n",
       "      <td>http://tkfile.yes24.com/Upload2/Board/202406/2...</td>\n",
       "      <td>YES24 LIVE HALL</td>\n",
       "      <td>배너(VANNER)</td>\n",
       "      <td>http://ticket.yes24.com/Special/49958</td>\n",
       "      <td>2024.07.27</td>\n",
       "      <td>2024.07.28</td>\n",
       "      <td>2024-07-28</td>\n",
       "    </tr>\n",
       "    <tr>\n",
       "      <th>1</th>\n",
       "      <td>THE BOYZ WORLD TOUR : ZENERATION Ⅱ</td>\n",
       "      <td>http://tkfile.yes24.com/upload2/PerfBlog/20240...</td>\n",
       "      <td>http://tkfile.yes24.com/Upload2/Board/202405/2...</td>\n",
       "      <td>KSPO DOME(올림픽체조경기장)</td>\n",
       "      <td>더보이즈 (THE BOYZ)</td>\n",
       "      <td>http://ticket.yes24.com/Special/49700</td>\n",
       "      <td>2024.07.12</td>\n",
       "      <td>2024.07.14</td>\n",
       "      <td>2024-07-14</td>\n",
       "    </tr>\n",
       "  </tbody>\n",
       "</table>\n",
       "</div>"
      ],
      "text/plain": [
       "                                               상품 제목  \\\n",
       "0  2024 VANNER 1ST ENCORE CONCERT [THE FLAG：A TO ...   \n",
       "1                 THE BOYZ WORLD TOUR : ZENERATION Ⅱ   \n",
       "\n",
       "                                             포스터 URL  \\\n",
       "0  http://tkfile.yes24.com/upload2/PerfBlog/20240...   \n",
       "1  http://tkfile.yes24.com/upload2/PerfBlog/20240...   \n",
       "\n",
       "                                          상세 포스터 URL                 공연장소  \\\n",
       "0  http://tkfile.yes24.com/Upload2/Board/202406/2...      YES24 LIVE HALL   \n",
       "1  http://tkfile.yes24.com/Upload2/Board/202405/2...  KSPO DOME(올림픽체조경기장)   \n",
       "\n",
       "           캐스팅 리스트                                  해당 링크         시작일  \\\n",
       "0       배너(VANNER)  http://ticket.yes24.com/Special/49958  2024.07.27   \n",
       "1  더보이즈 (THE BOYZ)  http://ticket.yes24.com/Special/49700  2024.07.12   \n",
       "\n",
       "          종료일   종료일_date  \n",
       "0  2024.07.28 2024-07-28  \n",
       "1  2024.07.14 2024-07-14  "
      ]
     },
     "execution_count": 76,
     "metadata": {},
     "output_type": "execute_result"
    }
   ],
   "source": [
    "df_yes.head(2)"
   ]
  },
  {
   "cell_type": "code",
   "execution_count": 77,
   "id": "a4e3ea39-fec1-42c2-a16d-24fc789f3f4a",
   "metadata": {},
   "outputs": [],
   "source": [
    "import datetime as dt"
   ]
  },
  {
   "cell_type": "code",
   "execution_count": 78,
   "id": "424b5350-438a-47fd-b584-b639f5baf8d5",
   "metadata": {},
   "outputs": [
    {
     "data": {
      "text/plain": [
       "datetime.datetime(2024, 7, 5, 15, 33, 21, 809273)"
      ]
     },
     "execution_count": 78,
     "metadata": {},
     "output_type": "execute_result"
    }
   ],
   "source": [
    "dt.datetime.now()"
   ]
  },
  {
   "cell_type": "code",
   "execution_count": 79,
   "id": "46a654a6-894c-457d-943f-b6545d756a91",
   "metadata": {},
   "outputs": [],
   "source": [
    "current = dt.datetime.now()"
   ]
  },
  {
   "cell_type": "code",
   "execution_count": 80,
   "id": "ba60f979-7619-4221-9328-b12bbe7df268",
   "metadata": {},
   "outputs": [],
   "source": [
    "df_yes = df_yes[df_yes['종료일_date'] >= current]"
   ]
  },
  {
   "cell_type": "code",
   "execution_count": 81,
   "id": "4a443776-83a8-4d90-b90a-ac86c92c689b",
   "metadata": {},
   "outputs": [
    {
     "data": {
      "text/plain": [
       "array([ True])"
      ]
     },
     "execution_count": 81,
     "metadata": {},
     "output_type": "execute_result"
    }
   ],
   "source": [
    "(df_yes['종료일_date'] >= current).unique()"
   ]
  },
  {
   "cell_type": "code",
   "execution_count": 82,
   "id": "e1f43ba4-267a-4774-abe1-79564b448c51",
   "metadata": {},
   "outputs": [],
   "source": [
    "# csv 파일로 저장하기"
   ]
  },
  {
   "cell_type": "code",
   "execution_count": 83,
   "id": "551970fc-4539-4bc3-bceb-2fce8edfd639",
   "metadata": {},
   "outputs": [],
   "source": [
    "df_yes.to_csv('../ticketMerge/df_yes.csv')"
   ]
  },
  {
   "cell_type": "code",
   "execution_count": null,
   "id": "c8a5ad2b-da5f-4740-9728-6affdceac7b4",
   "metadata": {},
   "outputs": [],
   "source": []
  },
  {
   "cell_type": "code",
   "execution_count": null,
   "id": "d19f7a96-ada9-4986-be26-69094c604b51",
   "metadata": {},
   "outputs": [],
   "source": []
  },
  {
   "cell_type": "markdown",
   "id": "bfc45b91-65a9-42e4-9067-04c253fe9eeb",
   "metadata": {},
   "source": [
    "#### 가수데이터 정리하기"
   ]
  },
  {
   "cell_type": "code",
   "execution_count": 84,
   "id": "d84111d3-ff53-4fa1-923b-6c80af7aee07",
   "metadata": {},
   "outputs": [],
   "source": [
    "artist_yes = pd.read_csv('../ticketMerge/티켓머지_아티스트데이터/yes24 artist.csv')"
   ]
  },
  {
   "cell_type": "code",
   "execution_count": 85,
   "id": "04a35848-4851-4c72-a519-5021c60e85e0",
   "metadata": {},
   "outputs": [
    {
     "data": {
      "text/html": [
       "<div>\n",
       "<style scoped>\n",
       "    .dataframe tbody tr th:only-of-type {\n",
       "        vertical-align: middle;\n",
       "    }\n",
       "\n",
       "    .dataframe tbody tr th {\n",
       "        vertical-align: top;\n",
       "    }\n",
       "\n",
       "    .dataframe thead th {\n",
       "        text-align: right;\n",
       "    }\n",
       "</style>\n",
       "<table border=\"1\" class=\"dataframe\">\n",
       "  <thead>\n",
       "    <tr style=\"text-align: right;\">\n",
       "      <th></th>\n",
       "      <th>이름</th>\n",
       "      <th>URL</th>\n",
       "    </tr>\n",
       "  </thead>\n",
       "  <tbody>\n",
       "    <tr>\n",
       "      <th>0</th>\n",
       "      <td>배너(VANNER)</td>\n",
       "      <td>https://i.namu.wiki/i/Bge3xnYd4kRe_IKbm2uqxlhQ...</td>\n",
       "    </tr>\n",
       "    <tr>\n",
       "      <th>1</th>\n",
       "      <td>더보이즈 (THE BOYZ)</td>\n",
       "      <td>https://i.namu.wiki/i/Bge3xnYd4kRe_IKbm2uqxlhQ...</td>\n",
       "    </tr>\n",
       "    <tr>\n",
       "      <th>2</th>\n",
       "      <td>이찬원</td>\n",
       "      <td>https://i.namu.wiki/i/Bge3xnYd4kRe_IKbm2uqxlhQ...</td>\n",
       "    </tr>\n",
       "    <tr>\n",
       "      <th>3</th>\n",
       "      <td>바다(BADA)</td>\n",
       "      <td>https://i.namu.wiki/i/Bge3xnYd4kRe_IKbm2uqxlhQ...</td>\n",
       "    </tr>\n",
       "    <tr>\n",
       "      <th>4</th>\n",
       "      <td>WOOAH</td>\n",
       "      <td>https://i.namu.wiki/i/Bge3xnYd4kRe_IKbm2uqxlhQ...</td>\n",
       "    </tr>\n",
       "    <tr>\n",
       "      <th>...</th>\n",
       "      <td>...</td>\n",
       "      <td>...</td>\n",
       "    </tr>\n",
       "    <tr>\n",
       "      <th>73</th>\n",
       "      <td>CHO TOKIMEKI SENDENBU</td>\n",
       "      <td>https://i.namu.wiki/i/Bge3xnYd4kRe_IKbm2uqxlhQ...</td>\n",
       "    </tr>\n",
       "    <tr>\n",
       "      <th>74</th>\n",
       "      <td>eaJ</td>\n",
       "      <td>https://i.namu.wiki/i/Bge3xnYd4kRe_IKbm2uqxlhQ...</td>\n",
       "    </tr>\n",
       "    <tr>\n",
       "      <th>75</th>\n",
       "      <td>EMOTIONAL ORANGES, CHIIILD</td>\n",
       "      <td>https://i.namu.wiki/i/Bge3xnYd4kRe_IKbm2uqxlhQ...</td>\n",
       "    </tr>\n",
       "    <tr>\n",
       "      <th>76</th>\n",
       "      <td>NEKIRU</td>\n",
       "      <td>https://i.namu.wiki/i/Bge3xnYd4kRe_IKbm2uqxlhQ...</td>\n",
       "    </tr>\n",
       "    <tr>\n",
       "      <th>77</th>\n",
       "      <td>NMIXX</td>\n",
       "      <td>https://i.namu.wiki/i/Bge3xnYd4kRe_IKbm2uqxlhQ...</td>\n",
       "    </tr>\n",
       "  </tbody>\n",
       "</table>\n",
       "<p>78 rows × 2 columns</p>\n",
       "</div>"
      ],
      "text/plain": [
       "                            이름  \\\n",
       "0                   배너(VANNER)   \n",
       "1              더보이즈 (THE BOYZ)   \n",
       "2                          이찬원   \n",
       "3                     바다(BADA)   \n",
       "4                        WOOAH   \n",
       "..                         ...   \n",
       "73       CHO TOKIMEKI SENDENBU   \n",
       "74                         eaJ   \n",
       "75  EMOTIONAL ORANGES, CHIIILD   \n",
       "76                      NEKIRU   \n",
       "77                       NMIXX   \n",
       "\n",
       "                                                  URL  \n",
       "0   https://i.namu.wiki/i/Bge3xnYd4kRe_IKbm2uqxlhQ...  \n",
       "1   https://i.namu.wiki/i/Bge3xnYd4kRe_IKbm2uqxlhQ...  \n",
       "2   https://i.namu.wiki/i/Bge3xnYd4kRe_IKbm2uqxlhQ...  \n",
       "3   https://i.namu.wiki/i/Bge3xnYd4kRe_IKbm2uqxlhQ...  \n",
       "4   https://i.namu.wiki/i/Bge3xnYd4kRe_IKbm2uqxlhQ...  \n",
       "..                                                ...  \n",
       "73  https://i.namu.wiki/i/Bge3xnYd4kRe_IKbm2uqxlhQ...  \n",
       "74  https://i.namu.wiki/i/Bge3xnYd4kRe_IKbm2uqxlhQ...  \n",
       "75  https://i.namu.wiki/i/Bge3xnYd4kRe_IKbm2uqxlhQ...  \n",
       "76  https://i.namu.wiki/i/Bge3xnYd4kRe_IKbm2uqxlhQ...  \n",
       "77  https://i.namu.wiki/i/Bge3xnYd4kRe_IKbm2uqxlhQ...  \n",
       "\n",
       "[78 rows x 2 columns]"
      ]
     },
     "execution_count": 85,
     "metadata": {},
     "output_type": "execute_result"
    }
   ],
   "source": [
    "artist_yes"
   ]
  },
  {
   "cell_type": "code",
   "execution_count": 86,
   "id": "0a15df85-4cc6-4216-b2ae-148eb42fb538",
   "metadata": {},
   "outputs": [],
   "source": [
    "# 중복값 제거하기"
   ]
  },
  {
   "cell_type": "code",
   "execution_count": 87,
   "id": "760ee694-0e1a-4f51-8c60-77c579084860",
   "metadata": {},
   "outputs": [],
   "source": [
    "artist_yes = artist_yes.drop_duplicates()"
   ]
  },
  {
   "cell_type": "code",
   "execution_count": 88,
   "id": "5c51940d-6eb5-4799-bfbc-92d1482ddbe4",
   "metadata": {},
   "outputs": [
    {
     "data": {
      "text/html": [
       "<div>\n",
       "<style scoped>\n",
       "    .dataframe tbody tr th:only-of-type {\n",
       "        vertical-align: middle;\n",
       "    }\n",
       "\n",
       "    .dataframe tbody tr th {\n",
       "        vertical-align: top;\n",
       "    }\n",
       "\n",
       "    .dataframe thead th {\n",
       "        text-align: right;\n",
       "    }\n",
       "</style>\n",
       "<table border=\"1\" class=\"dataframe\">\n",
       "  <thead>\n",
       "    <tr style=\"text-align: right;\">\n",
       "      <th></th>\n",
       "      <th>이름</th>\n",
       "      <th>URL</th>\n",
       "    </tr>\n",
       "  </thead>\n",
       "  <tbody>\n",
       "    <tr>\n",
       "      <th>0</th>\n",
       "      <td>배너(VANNER)</td>\n",
       "      <td>https://i.namu.wiki/i/Bge3xnYd4kRe_IKbm2uqxlhQ...</td>\n",
       "    </tr>\n",
       "    <tr>\n",
       "      <th>1</th>\n",
       "      <td>더보이즈 (THE BOYZ)</td>\n",
       "      <td>https://i.namu.wiki/i/Bge3xnYd4kRe_IKbm2uqxlhQ...</td>\n",
       "    </tr>\n",
       "    <tr>\n",
       "      <th>2</th>\n",
       "      <td>이찬원</td>\n",
       "      <td>https://i.namu.wiki/i/Bge3xnYd4kRe_IKbm2uqxlhQ...</td>\n",
       "    </tr>\n",
       "    <tr>\n",
       "      <th>3</th>\n",
       "      <td>바다(BADA)</td>\n",
       "      <td>https://i.namu.wiki/i/Bge3xnYd4kRe_IKbm2uqxlhQ...</td>\n",
       "    </tr>\n",
       "    <tr>\n",
       "      <th>4</th>\n",
       "      <td>WOOAH</td>\n",
       "      <td>https://i.namu.wiki/i/Bge3xnYd4kRe_IKbm2uqxlhQ...</td>\n",
       "    </tr>\n",
       "    <tr>\n",
       "      <th>...</th>\n",
       "      <td>...</td>\n",
       "      <td>...</td>\n",
       "    </tr>\n",
       "    <tr>\n",
       "      <th>73</th>\n",
       "      <td>CHO TOKIMEKI SENDENBU</td>\n",
       "      <td>https://i.namu.wiki/i/Bge3xnYd4kRe_IKbm2uqxlhQ...</td>\n",
       "    </tr>\n",
       "    <tr>\n",
       "      <th>74</th>\n",
       "      <td>eaJ</td>\n",
       "      <td>https://i.namu.wiki/i/Bge3xnYd4kRe_IKbm2uqxlhQ...</td>\n",
       "    </tr>\n",
       "    <tr>\n",
       "      <th>75</th>\n",
       "      <td>EMOTIONAL ORANGES, CHIIILD</td>\n",
       "      <td>https://i.namu.wiki/i/Bge3xnYd4kRe_IKbm2uqxlhQ...</td>\n",
       "    </tr>\n",
       "    <tr>\n",
       "      <th>76</th>\n",
       "      <td>NEKIRU</td>\n",
       "      <td>https://i.namu.wiki/i/Bge3xnYd4kRe_IKbm2uqxlhQ...</td>\n",
       "    </tr>\n",
       "    <tr>\n",
       "      <th>77</th>\n",
       "      <td>NMIXX</td>\n",
       "      <td>https://i.namu.wiki/i/Bge3xnYd4kRe_IKbm2uqxlhQ...</td>\n",
       "    </tr>\n",
       "  </tbody>\n",
       "</table>\n",
       "<p>67 rows × 2 columns</p>\n",
       "</div>"
      ],
      "text/plain": [
       "                            이름  \\\n",
       "0                   배너(VANNER)   \n",
       "1              더보이즈 (THE BOYZ)   \n",
       "2                          이찬원   \n",
       "3                     바다(BADA)   \n",
       "4                        WOOAH   \n",
       "..                         ...   \n",
       "73       CHO TOKIMEKI SENDENBU   \n",
       "74                         eaJ   \n",
       "75  EMOTIONAL ORANGES, CHIIILD   \n",
       "76                      NEKIRU   \n",
       "77                       NMIXX   \n",
       "\n",
       "                                                  URL  \n",
       "0   https://i.namu.wiki/i/Bge3xnYd4kRe_IKbm2uqxlhQ...  \n",
       "1   https://i.namu.wiki/i/Bge3xnYd4kRe_IKbm2uqxlhQ...  \n",
       "2   https://i.namu.wiki/i/Bge3xnYd4kRe_IKbm2uqxlhQ...  \n",
       "3   https://i.namu.wiki/i/Bge3xnYd4kRe_IKbm2uqxlhQ...  \n",
       "4   https://i.namu.wiki/i/Bge3xnYd4kRe_IKbm2uqxlhQ...  \n",
       "..                                                ...  \n",
       "73  https://i.namu.wiki/i/Bge3xnYd4kRe_IKbm2uqxlhQ...  \n",
       "74  https://i.namu.wiki/i/Bge3xnYd4kRe_IKbm2uqxlhQ...  \n",
       "75  https://i.namu.wiki/i/Bge3xnYd4kRe_IKbm2uqxlhQ...  \n",
       "76  https://i.namu.wiki/i/Bge3xnYd4kRe_IKbm2uqxlhQ...  \n",
       "77  https://i.namu.wiki/i/Bge3xnYd4kRe_IKbm2uqxlhQ...  \n",
       "\n",
       "[67 rows x 2 columns]"
      ]
     },
     "execution_count": 88,
     "metadata": {},
     "output_type": "execute_result"
    }
   ],
   "source": [
    "artist_yes"
   ]
  },
  {
   "cell_type": "code",
   "execution_count": 89,
   "id": "5effd2ff-a873-4bbe-9a6a-a02306e96b01",
   "metadata": {},
   "outputs": [],
   "source": [
    "# csv 파일로 저장하기"
   ]
  },
  {
   "cell_type": "code",
   "execution_count": 91,
   "id": "16599426-7210-4b00-ae2b-c22b1b32c584",
   "metadata": {},
   "outputs": [],
   "source": [
    "artist_yes.to_csv('../ticketMerge/artist_yes.csv')"
   ]
  },
  {
   "cell_type": "code",
   "execution_count": null,
   "id": "b3a412cf-3084-45ca-8577-b3f8459c8bfa",
   "metadata": {},
   "outputs": [],
   "source": []
  },
  {
   "cell_type": "code",
   "execution_count": null,
   "id": "e6f27f74-0186-4f66-b343-4127388a73f6",
   "metadata": {},
   "outputs": [],
   "source": []
  },
  {
   "cell_type": "code",
   "execution_count": null,
   "id": "6624b7b9-384a-4aa0-8997-67b82baf29e4",
   "metadata": {},
   "outputs": [],
   "source": []
  },
  {
   "cell_type": "code",
   "execution_count": null,
   "id": "329d9b5a-a9b6-4d45-bf6b-01ecdd80228a",
   "metadata": {},
   "outputs": [],
   "source": []
  },
  {
   "cell_type": "code",
   "execution_count": null,
   "id": "1331c366-cca6-4813-85e9-bc37742622ca",
   "metadata": {},
   "outputs": [],
   "source": []
  },
  {
   "cell_type": "code",
   "execution_count": null,
   "id": "5c683376-03ce-4f07-8517-0eebd1d18dfa",
   "metadata": {},
   "outputs": [],
   "source": []
  },
  {
   "cell_type": "code",
   "execution_count": null,
   "id": "9feed919-3b35-4b26-bbe9-028b9796f79f",
   "metadata": {},
   "outputs": [],
   "source": []
  }
 ],
 "metadata": {
  "kernelspec": {
   "display_name": "Python 3 (ipykernel)",
   "language": "python",
   "name": "python3"
  },
  "language_info": {
   "codemirror_mode": {
    "name": "ipython",
    "version": 3
   },
   "file_extension": ".py",
   "mimetype": "text/x-python",
   "name": "python",
   "nbconvert_exporter": "python",
   "pygments_lexer": "ipython3",
   "version": "3.11.7"
  }
 },
 "nbformat": 4,
 "nbformat_minor": 5
}
