{
 "cells": [
  {
   "cell_type": "markdown",
   "id": "05bbc588-f871-472f-96f5-a4423d0b4acc",
   "metadata": {},
   "source": [
    "##### 요구사항\n",
    "* 공연기간을 시작일과 종료일로 나누어 두 개의 컬럼에 넣기 <br>\n",
    "* 현재일 기준으로 종료된 공연 삭제 <br>\n",
    "* 'URL' 결측치에 기본 프로필 이미지 넣기 <br>\n",
    "* 모든 사이트의 공연데이터를 하나로 합치기 <br>"
   ]
  },
  {
   "cell_type": "markdown",
   "id": "07004574-e0ba-4bb7-9dd5-5fdf206b8903",
   "metadata": {},
   "source": [
    "### 공연데이터 정리하기"
   ]
  },
  {
   "cell_type": "code",
   "execution_count": 192,
   "id": "38abbb75-4837-4e88-8b0d-5ba98e105ea8",
   "metadata": {},
   "outputs": [],
   "source": [
    "import pandas as pd\n",
    "import numpy as np"
   ]
  },
  {
   "cell_type": "code",
   "execution_count": 193,
   "id": "c4b5bec9-153b-4a31-a1ed-1abe0f301721",
   "metadata": {},
   "outputs": [],
   "source": [
    "df_inpark = pd.read_csv('../ticketMerge/티켓머지_일정데이터/interpark_data.csv')"
   ]
  },
  {
   "cell_type": "code",
   "execution_count": 194,
   "id": "498c97d9-f307-467d-ad20-2cf7ab9ac806",
   "metadata": {},
   "outputs": [
    {
     "data": {
      "text/html": [
       "<div>\n",
       "<style scoped>\n",
       "    .dataframe tbody tr th:only-of-type {\n",
       "        vertical-align: middle;\n",
       "    }\n",
       "\n",
       "    .dataframe tbody tr th {\n",
       "        vertical-align: top;\n",
       "    }\n",
       "\n",
       "    .dataframe thead th {\n",
       "        text-align: right;\n",
       "    }\n",
       "</style>\n",
       "<table border=\"1\" class=\"dataframe\">\n",
       "  <thead>\n",
       "    <tr style=\"text-align: right;\">\n",
       "      <th></th>\n",
       "      <th>상품 제목</th>\n",
       "      <th>포스터 URL</th>\n",
       "      <th>상세 포스터 URL</th>\n",
       "      <th>공연장소</th>\n",
       "      <th>공연기간</th>\n",
       "      <th>캐스팅 리스트</th>\n",
       "      <th>해당 링크</th>\n",
       "    </tr>\n",
       "  </thead>\n",
       "  <tbody>\n",
       "    <tr>\n",
       "      <th>0</th>\n",
       "      <td>2024 TREASURE RELAY TOUR ［REBOOT］ FINAL IN SEOUL</td>\n",
       "      <td>http://ticketimage.interpark.com/Play/image/la...</td>\n",
       "      <td>https://ticketimage.interpark.com/Play/image/e...</td>\n",
       "      <td>올림픽공원 KSPO DOME(자세히)</td>\n",
       "      <td>2024.08.15</td>\n",
       "      <td>트레저</td>\n",
       "      <td>https://tickets.interpark.com/goods/24008528</td>\n",
       "    </tr>\n",
       "    <tr>\n",
       "      <th>1</th>\n",
       "      <td>두아 리파 내한공연</td>\n",
       "      <td>http://ticketimage.interpark.com/Play/image/la...</td>\n",
       "      <td>https://ticketimage.interpark.com/Play/image/e...</td>\n",
       "      <td>고척스카이돔(자세히)</td>\n",
       "      <td>2024.12.04 ~2024.12.05</td>\n",
       "      <td>두아 리파</td>\n",
       "      <td>https://tickets.interpark.com/goods/24007623</td>\n",
       "    </tr>\n",
       "  </tbody>\n",
       "</table>\n",
       "</div>"
      ],
      "text/plain": [
       "                                              상품 제목  \\\n",
       "0  2024 TREASURE RELAY TOUR ［REBOOT］ FINAL IN SEOUL   \n",
       "1                                        두아 리파 내한공연   \n",
       "\n",
       "                                             포스터 URL  \\\n",
       "0  http://ticketimage.interpark.com/Play/image/la...   \n",
       "1  http://ticketimage.interpark.com/Play/image/la...   \n",
       "\n",
       "                                          상세 포스터 URL                  공연장소  \\\n",
       "0  https://ticketimage.interpark.com/Play/image/e...  올림픽공원 KSPO DOME(자세히)   \n",
       "1  https://ticketimage.interpark.com/Play/image/e...           고척스카이돔(자세히)   \n",
       "\n",
       "                     공연기간 캐스팅 리스트  \\\n",
       "0              2024.08.15     트레저   \n",
       "1  2024.12.04 ~2024.12.05   두아 리파   \n",
       "\n",
       "                                          해당 링크  \n",
       "0  https://tickets.interpark.com/goods/24008528  \n",
       "1  https://tickets.interpark.com/goods/24007623  "
      ]
     },
     "execution_count": 194,
     "metadata": {},
     "output_type": "execute_result"
    }
   ],
   "source": [
    "df_inpark.head(2)"
   ]
  },
  {
   "cell_type": "code",
   "execution_count": 135,
   "id": "6c06f28b-f597-42e4-98ce-476cd3f509b9",
   "metadata": {},
   "outputs": [],
   "source": [
    "# 결측치 확인하기"
   ]
  },
  {
   "cell_type": "code",
   "execution_count": 136,
   "id": "afce7e83-42fa-4472-9407-46d4a43ad54b",
   "metadata": {},
   "outputs": [
    {
     "data": {
      "text/plain": [
       "상품 제목           0\n",
       "포스터 URL         0\n",
       "상세 포스터 URL      5\n",
       "공연장소            0\n",
       "공연기간            0\n",
       "캐스팅 리스트       192\n",
       "해당 링크           0\n",
       "dtype: int64"
      ]
     },
     "execution_count": 136,
     "metadata": {},
     "output_type": "execute_result"
    }
   ],
   "source": [
    "df_inpark.isna().sum()"
   ]
  },
  {
   "cell_type": "code",
   "execution_count": 137,
   "id": "fac4f4be-5222-4929-b87b-f0d16e079e99",
   "metadata": {},
   "outputs": [],
   "source": [
    "# 공연기간을 시작일/종료일 두 컬럼으로 나누기\n",
    "# 데이터 손실 대비하여 dt_inpark 로 별도 저장하여 작업"
   ]
  },
  {
   "cell_type": "code",
   "execution_count": 201,
   "id": "24999dc7-6f5d-4db6-adab-a89b74a03214",
   "metadata": {},
   "outputs": [],
   "source": [
    "dt_inpark = pd.DataFrame(df_inpark['공연기간'])  "
   ]
  },
  {
   "cell_type": "code",
   "execution_count": 202,
   "id": "eeae7ea8-caa4-4196-bc0e-d1b203fd9df3",
   "metadata": {},
   "outputs": [
    {
     "data": {
      "text/html": [
       "<div>\n",
       "<style scoped>\n",
       "    .dataframe tbody tr th:only-of-type {\n",
       "        vertical-align: middle;\n",
       "    }\n",
       "\n",
       "    .dataframe tbody tr th {\n",
       "        vertical-align: top;\n",
       "    }\n",
       "\n",
       "    .dataframe thead th {\n",
       "        text-align: right;\n",
       "    }\n",
       "</style>\n",
       "<table border=\"1\" class=\"dataframe\">\n",
       "  <thead>\n",
       "    <tr style=\"text-align: right;\">\n",
       "      <th></th>\n",
       "      <th>공연기간</th>\n",
       "    </tr>\n",
       "  </thead>\n",
       "  <tbody>\n",
       "    <tr>\n",
       "      <th>0</th>\n",
       "      <td>2024.08.15</td>\n",
       "    </tr>\n",
       "    <tr>\n",
       "      <th>1</th>\n",
       "      <td>2024.12.04 ~2024.12.05</td>\n",
       "    </tr>\n",
       "    <tr>\n",
       "      <th>2</th>\n",
       "      <td>2024.08.17 ~2024.08.18</td>\n",
       "    </tr>\n",
       "    <tr>\n",
       "      <th>3</th>\n",
       "      <td>2024.08.17</td>\n",
       "    </tr>\n",
       "    <tr>\n",
       "      <th>4</th>\n",
       "      <td>2024.07.13 ~2024.07.14</td>\n",
       "    </tr>\n",
       "    <tr>\n",
       "      <th>...</th>\n",
       "      <td>...</td>\n",
       "    </tr>\n",
       "    <tr>\n",
       "      <th>295</th>\n",
       "      <td>2024.08.31</td>\n",
       "    </tr>\n",
       "    <tr>\n",
       "      <th>296</th>\n",
       "      <td>2024.06.29</td>\n",
       "    </tr>\n",
       "    <tr>\n",
       "      <th>297</th>\n",
       "      <td>2024.06.28</td>\n",
       "    </tr>\n",
       "    <tr>\n",
       "      <th>298</th>\n",
       "      <td>2024.09.21</td>\n",
       "    </tr>\n",
       "    <tr>\n",
       "      <th>299</th>\n",
       "      <td>2024.07.20</td>\n",
       "    </tr>\n",
       "  </tbody>\n",
       "</table>\n",
       "<p>300 rows × 1 columns</p>\n",
       "</div>"
      ],
      "text/plain": [
       "                       공연기간\n",
       "0                2024.08.15\n",
       "1    2024.12.04 ~2024.12.05\n",
       "2    2024.08.17 ~2024.08.18\n",
       "3                2024.08.17\n",
       "4    2024.07.13 ~2024.07.14\n",
       "..                      ...\n",
       "295              2024.08.31\n",
       "296              2024.06.29\n",
       "297              2024.06.28\n",
       "298              2024.09.21\n",
       "299              2024.07.20\n",
       "\n",
       "[300 rows x 1 columns]"
      ]
     },
     "execution_count": 202,
     "metadata": {},
     "output_type": "execute_result"
    }
   ],
   "source": [
    "dt_inpark"
   ]
  },
  {
   "cell_type": "code",
   "execution_count": 140,
   "id": "7b4b6228-8f6c-4dc7-8ea8-2e0f9c87f7dc",
   "metadata": {},
   "outputs": [],
   "source": [
    "# \"~\"를 기준으로 공연기간을 분리하여 새로운 컬럼 추가"
   ]
  },
  {
   "cell_type": "code",
   "execution_count": 203,
   "id": "b1656903-7aa4-418e-b5e4-21aeb46aaa88",
   "metadata": {},
   "outputs": [],
   "source": [
    "dt_inpark = dt_inpark[['시작일', '종료일']] = dt_inpark['공연기간'].str.split(' ~', expand=True)"
   ]
  },
  {
   "cell_type": "code",
   "execution_count": 204,
   "id": "3b78a1dc-b4d1-43c2-a63b-02a315f31371",
   "metadata": {},
   "outputs": [],
   "source": [
    "# 필요 없어진 '공연기간' 컬럼 삭제\n",
    "dt_inpark = dt_inpark.drop(columns=[0,1])"
   ]
  },
  {
   "cell_type": "code",
   "execution_count": 205,
   "id": "0e98aac1-4210-41ad-b67d-d1bb487cb807",
   "metadata": {},
   "outputs": [
    {
     "data": {
      "text/html": [
       "<div>\n",
       "<style scoped>\n",
       "    .dataframe tbody tr th:only-of-type {\n",
       "        vertical-align: middle;\n",
       "    }\n",
       "\n",
       "    .dataframe tbody tr th {\n",
       "        vertical-align: top;\n",
       "    }\n",
       "\n",
       "    .dataframe thead th {\n",
       "        text-align: right;\n",
       "    }\n",
       "</style>\n",
       "<table border=\"1\" class=\"dataframe\">\n",
       "  <thead>\n",
       "    <tr style=\"text-align: right;\">\n",
       "      <th></th>\n",
       "      <th>시작일</th>\n",
       "      <th>종료일</th>\n",
       "    </tr>\n",
       "  </thead>\n",
       "  <tbody>\n",
       "    <tr>\n",
       "      <th>0</th>\n",
       "      <td>2024.08.15</td>\n",
       "      <td>None</td>\n",
       "    </tr>\n",
       "    <tr>\n",
       "      <th>1</th>\n",
       "      <td>2024.12.04</td>\n",
       "      <td>2024.12.05</td>\n",
       "    </tr>\n",
       "    <tr>\n",
       "      <th>2</th>\n",
       "      <td>2024.08.17</td>\n",
       "      <td>2024.08.18</td>\n",
       "    </tr>\n",
       "    <tr>\n",
       "      <th>3</th>\n",
       "      <td>2024.08.17</td>\n",
       "      <td>None</td>\n",
       "    </tr>\n",
       "    <tr>\n",
       "      <th>4</th>\n",
       "      <td>2024.07.13</td>\n",
       "      <td>2024.07.14</td>\n",
       "    </tr>\n",
       "    <tr>\n",
       "      <th>...</th>\n",
       "      <td>...</td>\n",
       "      <td>...</td>\n",
       "    </tr>\n",
       "    <tr>\n",
       "      <th>295</th>\n",
       "      <td>2024.08.31</td>\n",
       "      <td>None</td>\n",
       "    </tr>\n",
       "    <tr>\n",
       "      <th>296</th>\n",
       "      <td>2024.06.29</td>\n",
       "      <td>None</td>\n",
       "    </tr>\n",
       "    <tr>\n",
       "      <th>297</th>\n",
       "      <td>2024.06.28</td>\n",
       "      <td>None</td>\n",
       "    </tr>\n",
       "    <tr>\n",
       "      <th>298</th>\n",
       "      <td>2024.09.21</td>\n",
       "      <td>None</td>\n",
       "    </tr>\n",
       "    <tr>\n",
       "      <th>299</th>\n",
       "      <td>2024.07.20</td>\n",
       "      <td>None</td>\n",
       "    </tr>\n",
       "  </tbody>\n",
       "</table>\n",
       "<p>300 rows × 2 columns</p>\n",
       "</div>"
      ],
      "text/plain": [
       "            시작일         종료일\n",
       "0    2024.08.15        None\n",
       "1    2024.12.04  2024.12.05\n",
       "2    2024.08.17  2024.08.18\n",
       "3    2024.08.17        None\n",
       "4    2024.07.13  2024.07.14\n",
       "..          ...         ...\n",
       "295  2024.08.31        None\n",
       "296  2024.06.29        None\n",
       "297  2024.06.28        None\n",
       "298  2024.09.21        None\n",
       "299  2024.07.20        None\n",
       "\n",
       "[300 rows x 2 columns]"
      ]
     },
     "execution_count": 205,
     "metadata": {},
     "output_type": "execute_result"
    }
   ],
   "source": [
    "dt_inpark"
   ]
  },
  {
   "cell_type": "code",
   "execution_count": 144,
   "id": "98a0c350-7e4b-4fac-8b5c-836c4728d347",
   "metadata": {},
   "outputs": [
    {
     "data": {
      "text/plain": [
       "시작일      0\n",
       "종료일    230\n",
       "dtype: int64"
      ]
     },
     "execution_count": 144,
     "metadata": {},
     "output_type": "execute_result"
    }
   ],
   "source": [
    "dt_inpark.isna().sum()"
   ]
  },
  {
   "cell_type": "code",
   "execution_count": 145,
   "id": "0ac586bd-0785-4f37-9309-a99df34c46a5",
   "metadata": {},
   "outputs": [],
   "source": [
    "# 종료일이 비어있는 경우는 시작일로 채워주기(공연일정이 하루인 경우)"
   ]
  },
  {
   "cell_type": "code",
   "execution_count": 206,
   "id": "0158d16b-1360-4975-9b2e-c369972fb69b",
   "metadata": {},
   "outputs": [
    {
     "name": "stderr",
     "output_type": "stream",
     "text": [
      "C:\\Users\\406\\AppData\\Local\\Temp\\ipykernel_6320\\3650465673.py:1: FutureWarning: DataFrame.fillna with 'method' is deprecated and will raise in a future version. Use obj.ffill() or obj.bfill() instead.\n",
      "  dt_inpark =dt_inpark.fillna(method='ffill', axis=1)\n"
     ]
    }
   ],
   "source": [
    "dt_inpark =dt_inpark.fillna(method='ffill', axis=1)"
   ]
  },
  {
   "cell_type": "code",
   "execution_count": 207,
   "id": "e8df3c56-78a3-48d6-825d-e67d4e5be8f9",
   "metadata": {},
   "outputs": [
    {
     "data": {
      "text/html": [
       "<div>\n",
       "<style scoped>\n",
       "    .dataframe tbody tr th:only-of-type {\n",
       "        vertical-align: middle;\n",
       "    }\n",
       "\n",
       "    .dataframe tbody tr th {\n",
       "        vertical-align: top;\n",
       "    }\n",
       "\n",
       "    .dataframe thead th {\n",
       "        text-align: right;\n",
       "    }\n",
       "</style>\n",
       "<table border=\"1\" class=\"dataframe\">\n",
       "  <thead>\n",
       "    <tr style=\"text-align: right;\">\n",
       "      <th></th>\n",
       "      <th>시작일</th>\n",
       "      <th>종료일</th>\n",
       "    </tr>\n",
       "  </thead>\n",
       "  <tbody>\n",
       "    <tr>\n",
       "      <th>0</th>\n",
       "      <td>2024.08.15</td>\n",
       "      <td>2024.08.15</td>\n",
       "    </tr>\n",
       "    <tr>\n",
       "      <th>1</th>\n",
       "      <td>2024.12.04</td>\n",
       "      <td>2024.12.05</td>\n",
       "    </tr>\n",
       "    <tr>\n",
       "      <th>2</th>\n",
       "      <td>2024.08.17</td>\n",
       "      <td>2024.08.18</td>\n",
       "    </tr>\n",
       "    <tr>\n",
       "      <th>3</th>\n",
       "      <td>2024.08.17</td>\n",
       "      <td>2024.08.17</td>\n",
       "    </tr>\n",
       "    <tr>\n",
       "      <th>4</th>\n",
       "      <td>2024.07.13</td>\n",
       "      <td>2024.07.14</td>\n",
       "    </tr>\n",
       "    <tr>\n",
       "      <th>...</th>\n",
       "      <td>...</td>\n",
       "      <td>...</td>\n",
       "    </tr>\n",
       "    <tr>\n",
       "      <th>295</th>\n",
       "      <td>2024.08.31</td>\n",
       "      <td>2024.08.31</td>\n",
       "    </tr>\n",
       "    <tr>\n",
       "      <th>296</th>\n",
       "      <td>2024.06.29</td>\n",
       "      <td>2024.06.29</td>\n",
       "    </tr>\n",
       "    <tr>\n",
       "      <th>297</th>\n",
       "      <td>2024.06.28</td>\n",
       "      <td>2024.06.28</td>\n",
       "    </tr>\n",
       "    <tr>\n",
       "      <th>298</th>\n",
       "      <td>2024.09.21</td>\n",
       "      <td>2024.09.21</td>\n",
       "    </tr>\n",
       "    <tr>\n",
       "      <th>299</th>\n",
       "      <td>2024.07.20</td>\n",
       "      <td>2024.07.20</td>\n",
       "    </tr>\n",
       "  </tbody>\n",
       "</table>\n",
       "<p>300 rows × 2 columns</p>\n",
       "</div>"
      ],
      "text/plain": [
       "            시작일         종료일\n",
       "0    2024.08.15  2024.08.15\n",
       "1    2024.12.04  2024.12.05\n",
       "2    2024.08.17  2024.08.18\n",
       "3    2024.08.17  2024.08.17\n",
       "4    2024.07.13  2024.07.14\n",
       "..          ...         ...\n",
       "295  2024.08.31  2024.08.31\n",
       "296  2024.06.29  2024.06.29\n",
       "297  2024.06.28  2024.06.28\n",
       "298  2024.09.21  2024.09.21\n",
       "299  2024.07.20  2024.07.20\n",
       "\n",
       "[300 rows x 2 columns]"
      ]
     },
     "execution_count": 207,
     "metadata": {},
     "output_type": "execute_result"
    }
   ],
   "source": [
    "dt_inpark"
   ]
  },
  {
   "cell_type": "code",
   "execution_count": 148,
   "id": "8304e111-7939-4fda-9ce6-f18804a44f78",
   "metadata": {},
   "outputs": [],
   "source": [
    "# 공연일정 합치기"
   ]
  },
  {
   "cell_type": "code",
   "execution_count": 208,
   "id": "9cf57b21-de9f-4d95-83fc-6e543073897c",
   "metadata": {},
   "outputs": [],
   "source": [
    "df_inpark = pd.concat([df_inpark, dt_inpark], axis=1)"
   ]
  },
  {
   "cell_type": "code",
   "execution_count": 150,
   "id": "bfced813-267a-48e1-8daf-7c9a1498663b",
   "metadata": {},
   "outputs": [
    {
     "data": {
      "text/html": [
       "<div>\n",
       "<style scoped>\n",
       "    .dataframe tbody tr th:only-of-type {\n",
       "        vertical-align: middle;\n",
       "    }\n",
       "\n",
       "    .dataframe tbody tr th {\n",
       "        vertical-align: top;\n",
       "    }\n",
       "\n",
       "    .dataframe thead th {\n",
       "        text-align: right;\n",
       "    }\n",
       "</style>\n",
       "<table border=\"1\" class=\"dataframe\">\n",
       "  <thead>\n",
       "    <tr style=\"text-align: right;\">\n",
       "      <th></th>\n",
       "      <th>상품 제목</th>\n",
       "      <th>포스터 URL</th>\n",
       "      <th>상세 포스터 URL</th>\n",
       "      <th>공연장소</th>\n",
       "      <th>공연기간</th>\n",
       "      <th>캐스팅 리스트</th>\n",
       "      <th>해당 링크</th>\n",
       "      <th>시작일</th>\n",
       "      <th>종료일</th>\n",
       "    </tr>\n",
       "  </thead>\n",
       "  <tbody>\n",
       "    <tr>\n",
       "      <th>0</th>\n",
       "      <td>2024 TREASURE RELAY TOUR ［REBOOT］ FINAL IN SEOUL</td>\n",
       "      <td>http://ticketimage.interpark.com/Play/image/la...</td>\n",
       "      <td>https://ticketimage.interpark.com/Play/image/e...</td>\n",
       "      <td>올림픽공원 KSPO DOME(자세히)</td>\n",
       "      <td>2024.08.15</td>\n",
       "      <td>트레저</td>\n",
       "      <td>https://tickets.interpark.com/goods/24008528</td>\n",
       "      <td>2024.08.15</td>\n",
       "      <td>2024.08.15</td>\n",
       "    </tr>\n",
       "  </tbody>\n",
       "</table>\n",
       "</div>"
      ],
      "text/plain": [
       "                                              상품 제목  \\\n",
       "0  2024 TREASURE RELAY TOUR ［REBOOT］ FINAL IN SEOUL   \n",
       "\n",
       "                                             포스터 URL  \\\n",
       "0  http://ticketimage.interpark.com/Play/image/la...   \n",
       "\n",
       "                                          상세 포스터 URL                  공연장소  \\\n",
       "0  https://ticketimage.interpark.com/Play/image/e...  올림픽공원 KSPO DOME(자세히)   \n",
       "\n",
       "         공연기간 캐스팅 리스트                                         해당 링크  \\\n",
       "0  2024.08.15     트레저  https://tickets.interpark.com/goods/24008528   \n",
       "\n",
       "          시작일         종료일  \n",
       "0  2024.08.15  2024.08.15  "
      ]
     },
     "execution_count": 150,
     "metadata": {},
     "output_type": "execute_result"
    }
   ],
   "source": [
    "df_inpark.head(1)"
   ]
  },
  {
   "cell_type": "code",
   "execution_count": 151,
   "id": "ab646201-6927-4d02-9bb4-1c27c18575cd",
   "metadata": {},
   "outputs": [],
   "source": [
    "# 공연기간 삭제"
   ]
  },
  {
   "cell_type": "code",
   "execution_count": 212,
   "id": "5d638ef0-62c4-4a95-b1dd-2d882afbb5bb",
   "metadata": {},
   "outputs": [],
   "source": [
    "df_inpark = df_inpark.drop(columns=['공연기간'])"
   ]
  },
  {
   "cell_type": "code",
   "execution_count": 153,
   "id": "ee80069b-dd7b-4b4c-8f0d-32cdf346d454",
   "metadata": {},
   "outputs": [
    {
     "data": {
      "text/html": [
       "<div>\n",
       "<style scoped>\n",
       "    .dataframe tbody tr th:only-of-type {\n",
       "        vertical-align: middle;\n",
       "    }\n",
       "\n",
       "    .dataframe tbody tr th {\n",
       "        vertical-align: top;\n",
       "    }\n",
       "\n",
       "    .dataframe thead th {\n",
       "        text-align: right;\n",
       "    }\n",
       "</style>\n",
       "<table border=\"1\" class=\"dataframe\">\n",
       "  <thead>\n",
       "    <tr style=\"text-align: right;\">\n",
       "      <th></th>\n",
       "      <th>상품 제목</th>\n",
       "      <th>포스터 URL</th>\n",
       "      <th>상세 포스터 URL</th>\n",
       "      <th>공연장소</th>\n",
       "      <th>캐스팅 리스트</th>\n",
       "      <th>해당 링크</th>\n",
       "      <th>시작일</th>\n",
       "      <th>종료일</th>\n",
       "    </tr>\n",
       "  </thead>\n",
       "  <tbody>\n",
       "    <tr>\n",
       "      <th>0</th>\n",
       "      <td>2024 TREASURE RELAY TOUR ［REBOOT］ FINAL IN SEOUL</td>\n",
       "      <td>http://ticketimage.interpark.com/Play/image/la...</td>\n",
       "      <td>https://ticketimage.interpark.com/Play/image/e...</td>\n",
       "      <td>올림픽공원 KSPO DOME(자세히)</td>\n",
       "      <td>트레저</td>\n",
       "      <td>https://tickets.interpark.com/goods/24008528</td>\n",
       "      <td>2024.08.15</td>\n",
       "      <td>2024.08.15</td>\n",
       "    </tr>\n",
       "    <tr>\n",
       "      <th>1</th>\n",
       "      <td>두아 리파 내한공연</td>\n",
       "      <td>http://ticketimage.interpark.com/Play/image/la...</td>\n",
       "      <td>https://ticketimage.interpark.com/Play/image/e...</td>\n",
       "      <td>고척스카이돔(자세히)</td>\n",
       "      <td>두아 리파</td>\n",
       "      <td>https://tickets.interpark.com/goods/24007623</td>\n",
       "      <td>2024.12.04</td>\n",
       "      <td>2024.12.05</td>\n",
       "    </tr>\n",
       "  </tbody>\n",
       "</table>\n",
       "</div>"
      ],
      "text/plain": [
       "                                              상품 제목  \\\n",
       "0  2024 TREASURE RELAY TOUR ［REBOOT］ FINAL IN SEOUL   \n",
       "1                                        두아 리파 내한공연   \n",
       "\n",
       "                                             포스터 URL  \\\n",
       "0  http://ticketimage.interpark.com/Play/image/la...   \n",
       "1  http://ticketimage.interpark.com/Play/image/la...   \n",
       "\n",
       "                                          상세 포스터 URL                  공연장소  \\\n",
       "0  https://ticketimage.interpark.com/Play/image/e...  올림픽공원 KSPO DOME(자세히)   \n",
       "1  https://ticketimage.interpark.com/Play/image/e...           고척스카이돔(자세히)   \n",
       "\n",
       "  캐스팅 리스트                                         해당 링크         시작일  \\\n",
       "0     트레저  https://tickets.interpark.com/goods/24008528  2024.08.15   \n",
       "1   두아 리파  https://tickets.interpark.com/goods/24007623  2024.12.04   \n",
       "\n",
       "          종료일  \n",
       "0  2024.08.15  \n",
       "1  2024.12.05  "
      ]
     },
     "execution_count": 153,
     "metadata": {},
     "output_type": "execute_result"
    }
   ],
   "source": [
    "df_inpark.head(2)"
   ]
  },
  {
   "cell_type": "code",
   "execution_count": 154,
   "id": "6f3d3246-4373-4da8-b00f-413e60116bf4",
   "metadata": {},
   "outputs": [],
   "source": [
    "# 기본이미지로 된 포스터url 찾기\n",
    "# 기본 이미지 : 'http://ticketimage.interpark.com/TicketImage/main/common/mobile/noimage_vtc.jpg'"
   ]
  },
  {
   "cell_type": "code",
   "execution_count": 155,
   "id": "2161fc73-ecff-4801-9129-64611469176f",
   "metadata": {},
   "outputs": [
    {
     "data": {
      "text/html": [
       "<div>\n",
       "<style scoped>\n",
       "    .dataframe tbody tr th:only-of-type {\n",
       "        vertical-align: middle;\n",
       "    }\n",
       "\n",
       "    .dataframe tbody tr th {\n",
       "        vertical-align: top;\n",
       "    }\n",
       "\n",
       "    .dataframe thead th {\n",
       "        text-align: right;\n",
       "    }\n",
       "</style>\n",
       "<table border=\"1\" class=\"dataframe\">\n",
       "  <thead>\n",
       "    <tr style=\"text-align: right;\">\n",
       "      <th></th>\n",
       "      <th>상품 제목</th>\n",
       "      <th>포스터 URL</th>\n",
       "      <th>상세 포스터 URL</th>\n",
       "      <th>공연장소</th>\n",
       "      <th>캐스팅 리스트</th>\n",
       "      <th>해당 링크</th>\n",
       "      <th>시작일</th>\n",
       "      <th>종료일</th>\n",
       "    </tr>\n",
       "  </thead>\n",
       "  <tbody>\n",
       "    <tr>\n",
       "      <th>68</th>\n",
       "      <td>〈재즈 콜렉티브－윤석철트리오〉－인천</td>\n",
       "      <td>http://ticketimage.interpark.com/TicketImage/m...</td>\n",
       "      <td>NaN</td>\n",
       "      <td>트라이보울(자세히)</td>\n",
       "      <td>NaN</td>\n",
       "      <td>https://tickets.interpark.com/goods/24009322</td>\n",
       "      <td>2024.07.31</td>\n",
       "      <td>2024.07.31</td>\n",
       "    </tr>\n",
       "    <tr>\n",
       "      <th>115</th>\n",
       "      <td>2024 월간뮤지크 〈어게인 싱어〉</td>\n",
       "      <td>http://ticketimage.interpark.com/TicketImage/m...</td>\n",
       "      <td>https:https://ticketimage.interpark.com/Play/I...</td>\n",
       "      <td>양천문화회관 대극장(자세히)</td>\n",
       "      <td>정동화</td>\n",
       "      <td>https://tickets.interpark.com/goods/24009159</td>\n",
       "      <td>2024.07.31</td>\n",
       "      <td>2024.07.31</td>\n",
       "    </tr>\n",
       "    <tr>\n",
       "      <th>218</th>\n",
       "      <td>야놀자 연동 테스트_비지정_콘서트</td>\n",
       "      <td>http://ticketimage.interpark.com/TicketImage/m...</td>\n",
       "      <td>NaN</td>\n",
       "      <td>임시공연장(자세히)</td>\n",
       "      <td>NaN</td>\n",
       "      <td>https://tickets.interpark.com/goods/24009277</td>\n",
       "      <td>2024.08.01</td>\n",
       "      <td>2024.09.30</td>\n",
       "    </tr>\n",
       "    <tr>\n",
       "      <th>272</th>\n",
       "      <td>ASAC오픈클래스  〈쇼팽의 만년을 찾아서〉 -안산</td>\n",
       "      <td>http://ticketimage.interpark.com/TicketImage/m...</td>\n",
       "      <td>NaN</td>\n",
       "      <td>안산문화예술의전당 별무리극장(자세히)</td>\n",
       "      <td>NaN</td>\n",
       "      <td>https://tickets.interpark.com/goods/24009158</td>\n",
       "      <td>2024.09.07</td>\n",
       "      <td>2024.09.07</td>\n",
       "    </tr>\n",
       "  </tbody>\n",
       "</table>\n",
       "</div>"
      ],
      "text/plain": [
       "                            상품 제목  \\\n",
       "68            〈재즈 콜렉티브－윤석철트리오〉－인천   \n",
       "115           2024 월간뮤지크 〈어게인 싱어〉   \n",
       "218            야놀자 연동 테스트_비지정_콘서트   \n",
       "272  ASAC오픈클래스  〈쇼팽의 만년을 찾아서〉 -안산   \n",
       "\n",
       "                                               포스터 URL  \\\n",
       "68   http://ticketimage.interpark.com/TicketImage/m...   \n",
       "115  http://ticketimage.interpark.com/TicketImage/m...   \n",
       "218  http://ticketimage.interpark.com/TicketImage/m...   \n",
       "272  http://ticketimage.interpark.com/TicketImage/m...   \n",
       "\n",
       "                                            상세 포스터 URL                  공연장소  \\\n",
       "68                                                 NaN            트라이보울(자세히)   \n",
       "115  https:https://ticketimage.interpark.com/Play/I...       양천문화회관 대극장(자세히)   \n",
       "218                                                NaN            임시공연장(자세히)   \n",
       "272                                                NaN  안산문화예술의전당 별무리극장(자세히)   \n",
       "\n",
       "    캐스팅 리스트                                         해당 링크         시작일  \\\n",
       "68      NaN  https://tickets.interpark.com/goods/24009322  2024.07.31   \n",
       "115     정동화  https://tickets.interpark.com/goods/24009159  2024.07.31   \n",
       "218     NaN  https://tickets.interpark.com/goods/24009277  2024.08.01   \n",
       "272     NaN  https://tickets.interpark.com/goods/24009158  2024.09.07   \n",
       "\n",
       "            종료일  \n",
       "68   2024.07.31  \n",
       "115  2024.07.31  \n",
       "218  2024.09.30  \n",
       "272  2024.09.07  "
      ]
     },
     "execution_count": 155,
     "metadata": {},
     "output_type": "execute_result"
    }
   ],
   "source": [
    "df_inpark.loc[df_inpark['포스터 URL'] == 'http://ticketimage.interpark.com/TicketImage/main/common/mobile/noimage_vtc.jpg']"
   ]
  },
  {
   "cell_type": "code",
   "execution_count": 156,
   "id": "4aa5f138-6f3a-493b-93ed-0b0a2b3508cc",
   "metadata": {},
   "outputs": [],
   "source": [
    "# 인터파크 기본이미지, 상세포스터 url 결측치에 => 우리가 사용할 기본이미지로 변경\n",
    "# 나무위키 빈 이미지 : https://i.namu.wiki/i/GFw2SMaGiqbS3yeTWO08FD5Df8LKk-xB2ckQ0MtDjdoryMCJtsDap9msW17NVgbTM4432kao4DkEGsgwhs_In0zw9vMOldvNbYoc-n1Ng4XgxBVZXNZz33WScPw6zCJY5XAVrdsAFGDx24HN_nu3oQ.webp"
   ]
  },
  {
   "cell_type": "code",
   "execution_count": 157,
   "id": "0dbeeb4e-208d-449e-8905-f6bfe1c33b3c",
   "metadata": {},
   "outputs": [],
   "source": [
    "df_inpark = df_inpark.replace('http://ticketimage.interpark.com/TicketImage/main/common/mobile/noimage_vtc.jpg', 'https://i.namu.wiki/i/GFw2SMaGiqbS3yeTWO08FD5Df8LKk-xB2ckQ0MtDjdoryMCJtsDap9msW17NVgbTM4432kao4DkEGsgwhs_In0zw9vMOldvNbYoc-n1Ng4XgxBVZXNZz33WScPw6zCJY5XAVrdsAFGDx24HN_nu3oQ.webp')"
   ]
  },
  {
   "cell_type": "code",
   "execution_count": 158,
   "id": "e4a822c6-b97b-490d-b574-5c45b3df2d7e",
   "metadata": {},
   "outputs": [],
   "source": [
    "df_inpark['상세 포스터 URL'].fillna('https://i.namu.wiki/i/GFw2SMaGiqbS3yeTWO08FD5Df8LKk-xB2ckQ0MtDjdoryMCJtsDap9msW17NVgbTM4432kao4DkEGsgwhs_In0zw9vMOldvNbYoc-n1Ng4XgxBVZXNZz33WScPw6zCJY5XAVrdsAFGDx24HN_nu3oQ.webp', inplace=True)"
   ]
  },
  {
   "cell_type": "code",
   "execution_count": 159,
   "id": "1d92ee67-d2aa-48f6-a8ae-fba91888e765",
   "metadata": {},
   "outputs": [
    {
     "data": {
      "text/plain": [
       "상품 제목           0\n",
       "포스터 URL         0\n",
       "상세 포스터 URL      0\n",
       "공연장소            0\n",
       "캐스팅 리스트       192\n",
       "해당 링크           0\n",
       "시작일             0\n",
       "종료일             0\n",
       "dtype: int64"
      ]
     },
     "execution_count": 159,
     "metadata": {},
     "output_type": "execute_result"
    }
   ],
   "source": [
    "df_inpark.isna().sum()"
   ]
  },
  {
   "cell_type": "code",
   "execution_count": 160,
   "id": "be6f4d5b-03c6-4dfb-8016-b396d37e761e",
   "metadata": {},
   "outputs": [],
   "source": [
    "# 캐스팅리스트 결측치에 데이터 채우기"
   ]
  },
  {
   "cell_type": "code",
   "execution_count": 161,
   "id": "98fce03c-8244-49d8-881d-47cd6b29d1f8",
   "metadata": {},
   "outputs": [],
   "source": [
    "df_inpark['캐스팅 리스트'].fillna('업로드 예정', inplace=True)"
   ]
  },
  {
   "cell_type": "code",
   "execution_count": 162,
   "id": "416a150f-1d30-4cc6-9d4b-aa9ad59a83b5",
   "metadata": {},
   "outputs": [
    {
     "data": {
      "text/plain": [
       "상품 제목         0\n",
       "포스터 URL       0\n",
       "상세 포스터 URL    0\n",
       "공연장소          0\n",
       "캐스팅 리스트       0\n",
       "해당 링크         0\n",
       "시작일           0\n",
       "종료일           0\n",
       "dtype: int64"
      ]
     },
     "execution_count": 162,
     "metadata": {},
     "output_type": "execute_result"
    }
   ],
   "source": [
    "df_inpark.isna().sum()"
   ]
  },
  {
   "cell_type": "code",
   "execution_count": 163,
   "id": "2744ca6f-5b4a-4c08-9b5a-60231307d2f5",
   "metadata": {},
   "outputs": [
    {
     "name": "stdout",
     "output_type": "stream",
     "text": [
      "<class 'pandas.core.frame.DataFrame'>\n",
      "RangeIndex: 300 entries, 0 to 299\n",
      "Data columns (total 8 columns):\n",
      " #   Column      Non-Null Count  Dtype \n",
      "---  ------      --------------  ----- \n",
      " 0   상품 제목       300 non-null    object\n",
      " 1   포스터 URL     300 non-null    object\n",
      " 2   상세 포스터 URL  300 non-null    object\n",
      " 3   공연장소        300 non-null    object\n",
      " 4   캐스팅 리스트     300 non-null    object\n",
      " 5   해당 링크       300 non-null    object\n",
      " 6   시작일         300 non-null    object\n",
      " 7   종료일         300 non-null    object\n",
      "dtypes: object(8)\n",
      "memory usage: 18.9+ KB\n"
     ]
    }
   ],
   "source": [
    "df_inpark.info()"
   ]
  },
  {
   "cell_type": "code",
   "execution_count": 164,
   "id": "405de73d-9d0f-495a-ad75-39af2cdaeb61",
   "metadata": {},
   "outputs": [],
   "source": [
    "# 종료일을 'date' 데이터 타입으로 변환하고, 현재일 기준으로 종료된 공연 삭제하기"
   ]
  },
  {
   "cell_type": "code",
   "execution_count": 209,
   "id": "a64da3b2-8383-4206-9afa-c318b1ae851e",
   "metadata": {},
   "outputs": [
    {
     "data": {
      "text/plain": [
       "0     2024-08-15\n",
       "1     2024-12-05\n",
       "2     2024-08-18\n",
       "3     2024-08-17\n",
       "4     2024-07-14\n",
       "         ...    \n",
       "295   2024-08-31\n",
       "296   2024-06-29\n",
       "297   2024-06-28\n",
       "298   2024-09-21\n",
       "299   2024-07-20\n",
       "Name: 종료일, Length: 300, dtype: datetime64[ns]"
      ]
     },
     "execution_count": 209,
     "metadata": {},
     "output_type": "execute_result"
    }
   ],
   "source": [
    "pd.to_datetime(df_inpark['종료일'])"
   ]
  },
  {
   "cell_type": "code",
   "execution_count": 210,
   "id": "49298fbb-ffcb-4116-ac05-4318761cdc5b",
   "metadata": {},
   "outputs": [],
   "source": [
    "df_inpark['종료일_date'] = pd.to_datetime(df_inpark['종료일'])"
   ]
  },
  {
   "cell_type": "code",
   "execution_count": 213,
   "id": "b328f9e2-d499-4507-a0e4-34f84e39ee14",
   "metadata": {},
   "outputs": [
    {
     "data": {
      "text/html": [
       "<div>\n",
       "<style scoped>\n",
       "    .dataframe tbody tr th:only-of-type {\n",
       "        vertical-align: middle;\n",
       "    }\n",
       "\n",
       "    .dataframe tbody tr th {\n",
       "        vertical-align: top;\n",
       "    }\n",
       "\n",
       "    .dataframe thead th {\n",
       "        text-align: right;\n",
       "    }\n",
       "</style>\n",
       "<table border=\"1\" class=\"dataframe\">\n",
       "  <thead>\n",
       "    <tr style=\"text-align: right;\">\n",
       "      <th></th>\n",
       "      <th>상품 제목</th>\n",
       "      <th>포스터 URL</th>\n",
       "      <th>상세 포스터 URL</th>\n",
       "      <th>공연장소</th>\n",
       "      <th>캐스팅 리스트</th>\n",
       "      <th>해당 링크</th>\n",
       "      <th>시작일</th>\n",
       "      <th>종료일</th>\n",
       "      <th>종료일_date</th>\n",
       "    </tr>\n",
       "  </thead>\n",
       "  <tbody>\n",
       "    <tr>\n",
       "      <th>0</th>\n",
       "      <td>2024 TREASURE RELAY TOUR ［REBOOT］ FINAL IN SEOUL</td>\n",
       "      <td>http://ticketimage.interpark.com/Play/image/la...</td>\n",
       "      <td>https://ticketimage.interpark.com/Play/image/e...</td>\n",
       "      <td>올림픽공원 KSPO DOME(자세히)</td>\n",
       "      <td>트레저</td>\n",
       "      <td>https://tickets.interpark.com/goods/24008528</td>\n",
       "      <td>2024.08.15</td>\n",
       "      <td>2024.08.15</td>\n",
       "      <td>2024-08-15</td>\n",
       "    </tr>\n",
       "    <tr>\n",
       "      <th>1</th>\n",
       "      <td>두아 리파 내한공연</td>\n",
       "      <td>http://ticketimage.interpark.com/Play/image/la...</td>\n",
       "      <td>https://ticketimage.interpark.com/Play/image/e...</td>\n",
       "      <td>고척스카이돔(자세히)</td>\n",
       "      <td>두아 리파</td>\n",
       "      <td>https://tickets.interpark.com/goods/24007623</td>\n",
       "      <td>2024.12.04</td>\n",
       "      <td>2024.12.05</td>\n",
       "      <td>2024-12-05</td>\n",
       "    </tr>\n",
       "  </tbody>\n",
       "</table>\n",
       "</div>"
      ],
      "text/plain": [
       "                                              상품 제목  \\\n",
       "0  2024 TREASURE RELAY TOUR ［REBOOT］ FINAL IN SEOUL   \n",
       "1                                        두아 리파 내한공연   \n",
       "\n",
       "                                             포스터 URL  \\\n",
       "0  http://ticketimage.interpark.com/Play/image/la...   \n",
       "1  http://ticketimage.interpark.com/Play/image/la...   \n",
       "\n",
       "                                          상세 포스터 URL                  공연장소  \\\n",
       "0  https://ticketimage.interpark.com/Play/image/e...  올림픽공원 KSPO DOME(자세히)   \n",
       "1  https://ticketimage.interpark.com/Play/image/e...           고척스카이돔(자세히)   \n",
       "\n",
       "  캐스팅 리스트                                         해당 링크         시작일  \\\n",
       "0     트레저  https://tickets.interpark.com/goods/24008528  2024.08.15   \n",
       "1   두아 리파  https://tickets.interpark.com/goods/24007623  2024.12.04   \n",
       "\n",
       "          종료일   종료일_date  \n",
       "0  2024.08.15 2024-08-15  \n",
       "1  2024.12.05 2024-12-05  "
      ]
     },
     "execution_count": 213,
     "metadata": {},
     "output_type": "execute_result"
    }
   ],
   "source": [
    "df_inpark.head(2)"
   ]
  },
  {
   "cell_type": "code",
   "execution_count": 168,
   "id": "96ecada2-56e0-494b-ba26-55cf51e125e6",
   "metadata": {},
   "outputs": [],
   "source": [
    "# df_inpark['종료일_연도'] = df_inpark['종료일2'].dt.year\n",
    "# df_inpark['종료일_월'] = df_inpark['종료일2'].dt.month\n",
    "# df_inpark['종료일_일'] = df_inpark['종료일2'].dt.day"
   ]
  },
  {
   "cell_type": "code",
   "execution_count": 169,
   "id": "a4e3ea39-fec1-42c2-a16d-24fc789f3f4a",
   "metadata": {},
   "outputs": [],
   "source": [
    "import datetime as dt"
   ]
  },
  {
   "cell_type": "code",
   "execution_count": 170,
   "id": "424b5350-438a-47fd-b584-b639f5baf8d5",
   "metadata": {},
   "outputs": [
    {
     "data": {
      "text/plain": [
       "datetime.datetime(2024, 7, 5, 14, 49, 59, 61503)"
      ]
     },
     "execution_count": 170,
     "metadata": {},
     "output_type": "execute_result"
    }
   ],
   "source": [
    "dt.datetime.now()"
   ]
  },
  {
   "cell_type": "code",
   "execution_count": 171,
   "id": "46a654a6-894c-457d-943f-b6545d756a91",
   "metadata": {},
   "outputs": [],
   "source": [
    "current = dt.datetime.now()"
   ]
  },
  {
   "cell_type": "code",
   "execution_count": 214,
   "id": "ba60f979-7619-4221-9328-b12bbe7df268",
   "metadata": {},
   "outputs": [],
   "source": [
    "df_inpark = df_inpark[df_inpark['종료일_date'] >= current]"
   ]
  },
  {
   "cell_type": "code",
   "execution_count": 215,
   "id": "78b54548-ed92-4f4a-b9da-86ad3338e5f9",
   "metadata": {},
   "outputs": [
    {
     "data": {
      "text/plain": [
       "0      True\n",
       "1      True\n",
       "2      True\n",
       "3      True\n",
       "4      True\n",
       "       ... \n",
       "293    True\n",
       "294    True\n",
       "295    True\n",
       "298    True\n",
       "299    True\n",
       "Name: 종료일_date, Length: 255, dtype: bool"
      ]
     },
     "execution_count": 215,
     "metadata": {},
     "output_type": "execute_result"
    }
   ],
   "source": [
    "df_inpark['종료일_date'] >= current"
   ]
  },
  {
   "cell_type": "code",
   "execution_count": 216,
   "id": "3ab70a58-9f74-4257-89bd-63d1a5d8c9ba",
   "metadata": {},
   "outputs": [
    {
     "data": {
      "text/html": [
       "<div>\n",
       "<style scoped>\n",
       "    .dataframe tbody tr th:only-of-type {\n",
       "        vertical-align: middle;\n",
       "    }\n",
       "\n",
       "    .dataframe tbody tr th {\n",
       "        vertical-align: top;\n",
       "    }\n",
       "\n",
       "    .dataframe thead th {\n",
       "        text-align: right;\n",
       "    }\n",
       "</style>\n",
       "<table border=\"1\" class=\"dataframe\">\n",
       "  <thead>\n",
       "    <tr style=\"text-align: right;\">\n",
       "      <th></th>\n",
       "      <th>상품 제목</th>\n",
       "      <th>포스터 URL</th>\n",
       "      <th>상세 포스터 URL</th>\n",
       "      <th>공연장소</th>\n",
       "      <th>캐스팅 리스트</th>\n",
       "      <th>해당 링크</th>\n",
       "      <th>시작일</th>\n",
       "      <th>종료일</th>\n",
       "      <th>종료일_date</th>\n",
       "    </tr>\n",
       "  </thead>\n",
       "  <tbody>\n",
       "    <tr>\n",
       "      <th>0</th>\n",
       "      <td>2024 TREASURE RELAY TOUR ［REBOOT］ FINAL IN SEOUL</td>\n",
       "      <td>http://ticketimage.interpark.com/Play/image/la...</td>\n",
       "      <td>https://ticketimage.interpark.com/Play/image/e...</td>\n",
       "      <td>올림픽공원 KSPO DOME(자세히)</td>\n",
       "      <td>트레저</td>\n",
       "      <td>https://tickets.interpark.com/goods/24008528</td>\n",
       "      <td>2024.08.15</td>\n",
       "      <td>2024.08.15</td>\n",
       "      <td>2024-08-15</td>\n",
       "    </tr>\n",
       "    <tr>\n",
       "      <th>1</th>\n",
       "      <td>두아 리파 내한공연</td>\n",
       "      <td>http://ticketimage.interpark.com/Play/image/la...</td>\n",
       "      <td>https://ticketimage.interpark.com/Play/image/e...</td>\n",
       "      <td>고척스카이돔(자세히)</td>\n",
       "      <td>두아 리파</td>\n",
       "      <td>https://tickets.interpark.com/goods/24007623</td>\n",
       "      <td>2024.12.04</td>\n",
       "      <td>2024.12.05</td>\n",
       "      <td>2024-12-05</td>\n",
       "    </tr>\n",
       "    <tr>\n",
       "      <th>2</th>\n",
       "      <td>싸이흠뻑쇼 SUMMERSWAG2024 - 인천</td>\n",
       "      <td>http://ticketimage.interpark.com/Play/image/la...</td>\n",
       "      <td>https://ticketimage.interpark.com/Play/image/e...</td>\n",
       "      <td>인천아시아드 주경기장(자세히)</td>\n",
       "      <td>싸이</td>\n",
       "      <td>https://tickets.interpark.com/goods/24007199</td>\n",
       "      <td>2024.08.17</td>\n",
       "      <td>2024.08.18</td>\n",
       "      <td>2024-08-18</td>\n",
       "    </tr>\n",
       "    <tr>\n",
       "      <th>3</th>\n",
       "      <td>송소희, 두번째달, 김준수의 모던민요 - 여주</td>\n",
       "      <td>http://ticketimage.interpark.com/Play/image/la...</td>\n",
       "      <td>https://ticketimage.interpark.com/Play/image/e...</td>\n",
       "      <td>세종국악당(자세히)</td>\n",
       "      <td>NaN</td>\n",
       "      <td>https://tickets.interpark.com/goods/24009112</td>\n",
       "      <td>2024.08.17</td>\n",
       "      <td>2024.08.17</td>\n",
       "      <td>2024-08-17</td>\n",
       "    </tr>\n",
       "    <tr>\n",
       "      <th>4</th>\n",
       "      <td>싸이흠뻑쇼 SUMMERSWAG2024 - 대구</td>\n",
       "      <td>http://ticketimage.interpark.com/Play/image/la...</td>\n",
       "      <td>https://ticketimage.interpark.com/Play/image/e...</td>\n",
       "      <td>대구스타디움 주경기장(자세히)</td>\n",
       "      <td>싸이</td>\n",
       "      <td>https://tickets.interpark.com/goods/24007190</td>\n",
       "      <td>2024.07.13</td>\n",
       "      <td>2024.07.14</td>\n",
       "      <td>2024-07-14</td>\n",
       "    </tr>\n",
       "    <tr>\n",
       "      <th>...</th>\n",
       "      <td>...</td>\n",
       "      <td>...</td>\n",
       "      <td>...</td>\n",
       "      <td>...</td>\n",
       "      <td>...</td>\n",
       "      <td>...</td>\n",
       "      <td>...</td>\n",
       "      <td>...</td>\n",
       "      <td>...</td>\n",
       "    </tr>\n",
       "    <tr>\n",
       "      <th>293</th>\n",
       "      <td>SOUND WA</td>\n",
       "      <td>http://ticketimage.interpark.com/Play/image/la...</td>\n",
       "      <td>https://ticketimage.interpark.com/Play/image/e...</td>\n",
       "      <td>홍대 BENDER(자세히)</td>\n",
       "      <td>NaN</td>\n",
       "      <td>https://tickets.interpark.com/goods/24008524</td>\n",
       "      <td>2024.07.13</td>\n",
       "      <td>2024.07.13</td>\n",
       "      <td>2024-07-13</td>\n",
       "    </tr>\n",
       "    <tr>\n",
       "      <th>294</th>\n",
       "      <td>Summer Jazzbreak 2024</td>\n",
       "      <td>http://ticketimage.interpark.com/Play/image/la...</td>\n",
       "      <td>https://ticketimage.interpark.com/240075662024...</td>\n",
       "      <td>구로아트밸리 예술극장(자세히)</td>\n",
       "      <td>젠틀레인, 카즈미 타테이시, 마오 스즈키, 시노부 사토, 요시다 케이코</td>\n",
       "      <td>https://tickets.interpark.com/goods/24007566</td>\n",
       "      <td>2024.08.31</td>\n",
       "      <td>2024.08.31</td>\n",
       "      <td>2024-08-31</td>\n",
       "    </tr>\n",
       "    <tr>\n",
       "      <th>295</th>\n",
       "      <td>THE GREATEST : 불후의명곡 정동하X알리 - 이천</td>\n",
       "      <td>http://ticketimage.interpark.com/Play/image/la...</td>\n",
       "      <td>https://ticketimage.interpark.com/Play/image/e...</td>\n",
       "      <td>이천아트홀 대공연장(자세히)</td>\n",
       "      <td>NaN</td>\n",
       "      <td>https://tickets.interpark.com/goods/24009074</td>\n",
       "      <td>2024.08.31</td>\n",
       "      <td>2024.08.31</td>\n",
       "      <td>2024-08-31</td>\n",
       "    </tr>\n",
       "    <tr>\n",
       "      <th>298</th>\n",
       "      <td>TOMIOKA AI 〈BLUE SPOT〉</td>\n",
       "      <td>http://ticketimage.interpark.com/Play/image/la...</td>\n",
       "      <td>https://ticketimage.interpark.com/Play/image/e...</td>\n",
       "      <td>무신사 개러지(자세히)</td>\n",
       "      <td>NaN</td>\n",
       "      <td>https://tickets.interpark.com/goods/24007900</td>\n",
       "      <td>2024.09.21</td>\n",
       "      <td>2024.09.21</td>\n",
       "      <td>2024-09-21</td>\n",
       "    </tr>\n",
       "    <tr>\n",
       "      <th>299</th>\n",
       "      <td>VerseDay 2024 (대구)</td>\n",
       "      <td>http://ticketimage.interpark.com/Play/image/la...</td>\n",
       "      <td>https://ticketimage.interpark.com/Play/image/e...</td>\n",
       "      <td>클럽 헤비(자세히)</td>\n",
       "      <td>NaN</td>\n",
       "      <td>https://tickets.interpark.com/goods/24008573</td>\n",
       "      <td>2024.07.20</td>\n",
       "      <td>2024.07.20</td>\n",
       "      <td>2024-07-20</td>\n",
       "    </tr>\n",
       "  </tbody>\n",
       "</table>\n",
       "<p>255 rows × 9 columns</p>\n",
       "</div>"
      ],
      "text/plain": [
       "                                                상품 제목  \\\n",
       "0    2024 TREASURE RELAY TOUR ［REBOOT］ FINAL IN SEOUL   \n",
       "1                                          두아 리파 내한공연   \n",
       "2                           싸이흠뻑쇼 SUMMERSWAG2024 - 인천   \n",
       "3                           송소희, 두번째달, 김준수의 모던민요 - 여주   \n",
       "4                           싸이흠뻑쇼 SUMMERSWAG2024 - 대구   \n",
       "..                                                ...   \n",
       "293                                          SOUND WA   \n",
       "294                             Summer Jazzbreak 2024   \n",
       "295                  THE GREATEST : 불후의명곡 정동하X알리 - 이천   \n",
       "298                            TOMIOKA AI 〈BLUE SPOT〉   \n",
       "299                                VerseDay 2024 (대구)   \n",
       "\n",
       "                                               포스터 URL  \\\n",
       "0    http://ticketimage.interpark.com/Play/image/la...   \n",
       "1    http://ticketimage.interpark.com/Play/image/la...   \n",
       "2    http://ticketimage.interpark.com/Play/image/la...   \n",
       "3    http://ticketimage.interpark.com/Play/image/la...   \n",
       "4    http://ticketimage.interpark.com/Play/image/la...   \n",
       "..                                                 ...   \n",
       "293  http://ticketimage.interpark.com/Play/image/la...   \n",
       "294  http://ticketimage.interpark.com/Play/image/la...   \n",
       "295  http://ticketimage.interpark.com/Play/image/la...   \n",
       "298  http://ticketimage.interpark.com/Play/image/la...   \n",
       "299  http://ticketimage.interpark.com/Play/image/la...   \n",
       "\n",
       "                                            상세 포스터 URL                  공연장소  \\\n",
       "0    https://ticketimage.interpark.com/Play/image/e...  올림픽공원 KSPO DOME(자세히)   \n",
       "1    https://ticketimage.interpark.com/Play/image/e...           고척스카이돔(자세히)   \n",
       "2    https://ticketimage.interpark.com/Play/image/e...      인천아시아드 주경기장(자세히)   \n",
       "3    https://ticketimage.interpark.com/Play/image/e...            세종국악당(자세히)   \n",
       "4    https://ticketimage.interpark.com/Play/image/e...      대구스타디움 주경기장(자세히)   \n",
       "..                                                 ...                   ...   \n",
       "293  https://ticketimage.interpark.com/Play/image/e...        홍대 BENDER(자세히)   \n",
       "294  https://ticketimage.interpark.com/240075662024...      구로아트밸리 예술극장(자세히)   \n",
       "295  https://ticketimage.interpark.com/Play/image/e...       이천아트홀 대공연장(자세히)   \n",
       "298  https://ticketimage.interpark.com/Play/image/e...          무신사 개러지(자세히)   \n",
       "299  https://ticketimage.interpark.com/Play/image/e...            클럽 헤비(자세히)   \n",
       "\n",
       "                                     캐스팅 리스트  \\\n",
       "0                                        트레저   \n",
       "1                                      두아 리파   \n",
       "2                                         싸이   \n",
       "3                                        NaN   \n",
       "4                                         싸이   \n",
       "..                                       ...   \n",
       "293                                      NaN   \n",
       "294  젠틀레인, 카즈미 타테이시, 마오 스즈키, 시노부 사토, 요시다 케이코   \n",
       "295                                      NaN   \n",
       "298                                      NaN   \n",
       "299                                      NaN   \n",
       "\n",
       "                                            해당 링크         시작일         종료일  \\\n",
       "0    https://tickets.interpark.com/goods/24008528  2024.08.15  2024.08.15   \n",
       "1    https://tickets.interpark.com/goods/24007623  2024.12.04  2024.12.05   \n",
       "2    https://tickets.interpark.com/goods/24007199  2024.08.17  2024.08.18   \n",
       "3    https://tickets.interpark.com/goods/24009112  2024.08.17  2024.08.17   \n",
       "4    https://tickets.interpark.com/goods/24007190  2024.07.13  2024.07.14   \n",
       "..                                            ...         ...         ...   \n",
       "293  https://tickets.interpark.com/goods/24008524  2024.07.13  2024.07.13   \n",
       "294  https://tickets.interpark.com/goods/24007566  2024.08.31  2024.08.31   \n",
       "295  https://tickets.interpark.com/goods/24009074  2024.08.31  2024.08.31   \n",
       "298  https://tickets.interpark.com/goods/24007900  2024.09.21  2024.09.21   \n",
       "299  https://tickets.interpark.com/goods/24008573  2024.07.20  2024.07.20   \n",
       "\n",
       "      종료일_date  \n",
       "0   2024-08-15  \n",
       "1   2024-12-05  \n",
       "2   2024-08-18  \n",
       "3   2024-08-17  \n",
       "4   2024-07-14  \n",
       "..         ...  \n",
       "293 2024-07-13  \n",
       "294 2024-08-31  \n",
       "295 2024-08-31  \n",
       "298 2024-09-21  \n",
       "299 2024-07-20  \n",
       "\n",
       "[255 rows x 9 columns]"
      ]
     },
     "execution_count": 216,
     "metadata": {},
     "output_type": "execute_result"
    }
   ],
   "source": [
    "df_inpark"
   ]
  },
  {
   "cell_type": "code",
   "execution_count": 176,
   "id": "6c2b4386-9273-491a-882d-e67fb53952ed",
   "metadata": {},
   "outputs": [],
   "source": [
    "# csv 파일로 저장하기"
   ]
  },
  {
   "cell_type": "code",
   "execution_count": 217,
   "id": "551970fc-4539-4bc3-bceb-2fce8edfd639",
   "metadata": {},
   "outputs": [],
   "source": [
    "df_inpark.to_csv('../ticketMerge/df_inpark.csv')"
   ]
  },
  {
   "cell_type": "code",
   "execution_count": null,
   "id": "9feed919-3b35-4b26-bbe9-028b9796f79f",
   "metadata": {},
   "outputs": [],
   "source": []
  },
  {
   "cell_type": "code",
   "execution_count": null,
   "id": "44a232a7-4274-4b55-8f0d-4c4b0ef79009",
   "metadata": {},
   "outputs": [],
   "source": []
  },
  {
   "cell_type": "code",
   "execution_count": null,
   "id": "3fcbbacd-3396-4464-9fd5-a42c5b42aed6",
   "metadata": {},
   "outputs": [],
   "source": []
  },
  {
   "cell_type": "code",
   "execution_count": null,
   "id": "fc05daa4-c7ad-4908-acd1-df5152f19d69",
   "metadata": {},
   "outputs": [],
   "source": []
  },
  {
   "cell_type": "markdown",
   "id": "062339af-0175-43dc-9413-92d8a678dca3",
   "metadata": {},
   "source": [
    "### 가수데이터 정리하기"
   ]
  },
  {
   "cell_type": "code",
   "execution_count": 178,
   "id": "7b96ccc5-91e4-4483-aad9-31715bbb0336",
   "metadata": {},
   "outputs": [],
   "source": [
    "artist_inpark = pd.read_csv('../ticketMerge/티켓머지_아티스트데이터/interpark_artist.csv')"
   ]
  },
  {
   "cell_type": "code",
   "execution_count": 179,
   "id": "d8a57fff-2dce-4834-bf79-e6488497a0b1",
   "metadata": {},
   "outputs": [
    {
     "data": {
      "text/html": [
       "<div>\n",
       "<style scoped>\n",
       "    .dataframe tbody tr th:only-of-type {\n",
       "        vertical-align: middle;\n",
       "    }\n",
       "\n",
       "    .dataframe tbody tr th {\n",
       "        vertical-align: top;\n",
       "    }\n",
       "\n",
       "    .dataframe thead th {\n",
       "        text-align: right;\n",
       "    }\n",
       "</style>\n",
       "<table border=\"1\" class=\"dataframe\">\n",
       "  <thead>\n",
       "    <tr style=\"text-align: right;\">\n",
       "      <th></th>\n",
       "      <th>이름</th>\n",
       "      <th>URL</th>\n",
       "    </tr>\n",
       "  </thead>\n",
       "  <tbody>\n",
       "    <tr>\n",
       "      <th>0</th>\n",
       "      <td>트레저</td>\n",
       "      <td>https://ticketimage.interpark.com/PlayDictiona...</td>\n",
       "    </tr>\n",
       "    <tr>\n",
       "      <th>1</th>\n",
       "      <td>두아 리파</td>\n",
       "      <td>https://ticketimage.interpark.com/PlayDictiona...</td>\n",
       "    </tr>\n",
       "    <tr>\n",
       "      <th>2</th>\n",
       "      <td>싸이</td>\n",
       "      <td>https://ticketimage.interpark.com/PlayDictiona...</td>\n",
       "    </tr>\n",
       "    <tr>\n",
       "      <th>3</th>\n",
       "      <td>싸이</td>\n",
       "      <td>https://ticketimage.interpark.com/PlayDictiona...</td>\n",
       "    </tr>\n",
       "    <tr>\n",
       "      <th>4</th>\n",
       "      <td>싸이</td>\n",
       "      <td>https://ticketimage.interpark.com/PlayDictiona...</td>\n",
       "    </tr>\n",
       "    <tr>\n",
       "      <th>...</th>\n",
       "      <td>...</td>\n",
       "      <td>...</td>\n",
       "    </tr>\n",
       "    <tr>\n",
       "      <th>180</th>\n",
       "      <td>마오 스즈키</td>\n",
       "      <td>https://ticketimage.interpark.com/PlayDictiona...</td>\n",
       "    </tr>\n",
       "    <tr>\n",
       "      <th>181</th>\n",
       "      <td>시노부 사토</td>\n",
       "      <td>https://ticketimage.interpark.com/PlayDictiona...</td>\n",
       "    </tr>\n",
       "    <tr>\n",
       "      <th>182</th>\n",
       "      <td>요시다 케이코</td>\n",
       "      <td>https://ticketimage.interpark.com/PlayDictiona...</td>\n",
       "    </tr>\n",
       "    <tr>\n",
       "      <th>183</th>\n",
       "      <td>소향</td>\n",
       "      <td>https://ticketimage.interpark.com/PlayDictiona...</td>\n",
       "    </tr>\n",
       "    <tr>\n",
       "      <th>184</th>\n",
       "      <td>정동하</td>\n",
       "      <td>https://ticketimage.interpark.com/PlayDictiona...</td>\n",
       "    </tr>\n",
       "  </tbody>\n",
       "</table>\n",
       "<p>185 rows × 2 columns</p>\n",
       "</div>"
      ],
      "text/plain": [
       "          이름                                                URL\n",
       "0        트레저  https://ticketimage.interpark.com/PlayDictiona...\n",
       "1      두아 리파  https://ticketimage.interpark.com/PlayDictiona...\n",
       "2         싸이  https://ticketimage.interpark.com/PlayDictiona...\n",
       "3         싸이  https://ticketimage.interpark.com/PlayDictiona...\n",
       "4         싸이  https://ticketimage.interpark.com/PlayDictiona...\n",
       "..       ...                                                ...\n",
       "180   마오 스즈키  https://ticketimage.interpark.com/PlayDictiona...\n",
       "181   시노부 사토  https://ticketimage.interpark.com/PlayDictiona...\n",
       "182  요시다 케이코  https://ticketimage.interpark.com/PlayDictiona...\n",
       "183       소향  https://ticketimage.interpark.com/PlayDictiona...\n",
       "184      정동하  https://ticketimage.interpark.com/PlayDictiona...\n",
       "\n",
       "[185 rows x 2 columns]"
      ]
     },
     "execution_count": 179,
     "metadata": {},
     "output_type": "execute_result"
    }
   ],
   "source": [
    "artist_inpark"
   ]
  },
  {
   "cell_type": "code",
   "execution_count": 180,
   "id": "b2e05e7a-a6dd-4e14-ba4b-a2fa9101bfff",
   "metadata": {},
   "outputs": [
    {
     "name": "stdout",
     "output_type": "stream",
     "text": [
      "<class 'pandas.core.frame.DataFrame'>\n",
      "RangeIndex: 185 entries, 0 to 184\n",
      "Data columns (total 2 columns):\n",
      " #   Column  Non-Null Count  Dtype \n",
      "---  ------  --------------  ----- \n",
      " 0   이름      185 non-null    object\n",
      " 1   URL     185 non-null    object\n",
      "dtypes: object(2)\n",
      "memory usage: 3.0+ KB\n"
     ]
    }
   ],
   "source": [
    "artist_inpark.info()"
   ]
  },
  {
   "cell_type": "code",
   "execution_count": 181,
   "id": "5dbf32b9-814c-47da-a980-1a409fffdd75",
   "metadata": {},
   "outputs": [],
   "source": [
    "# 중복데이터 삭제하기"
   ]
  },
  {
   "cell_type": "code",
   "execution_count": 182,
   "id": "759fe338-b907-427d-9626-d0326625e232",
   "metadata": {},
   "outputs": [],
   "source": [
    "artist_inpark = artist_inpark.drop_duplicates()"
   ]
  },
  {
   "cell_type": "code",
   "execution_count": 183,
   "id": "dc5c0cd3-92c9-41a4-bf12-b1c35b85df8b",
   "metadata": {},
   "outputs": [],
   "source": [
    "# 검토하기"
   ]
  },
  {
   "cell_type": "code",
   "execution_count": 184,
   "id": "8cf64bdd-177d-4696-8fa1-2bf7ca9308cb",
   "metadata": {},
   "outputs": [],
   "source": [
    "artist_double = artist_inpark.duplicated()"
   ]
  },
  {
   "cell_type": "code",
   "execution_count": 185,
   "id": "8005e060-042f-46c2-8447-2e06b6d76b56",
   "metadata": {},
   "outputs": [
    {
     "data": {
      "text/plain": [
       "0      False\n",
       "1      False\n",
       "2      False\n",
       "7      False\n",
       "9      False\n",
       "       ...  \n",
       "180    False\n",
       "181    False\n",
       "182    False\n",
       "183    False\n",
       "184    False\n",
       "Length: 147, dtype: bool"
      ]
     },
     "execution_count": 185,
     "metadata": {},
     "output_type": "execute_result"
    }
   ],
   "source": [
    "artist_double"
   ]
  },
  {
   "cell_type": "code",
   "execution_count": 186,
   "id": "4819a90b-f0ab-428a-a3f5-c0c5521a2d2a",
   "metadata": {},
   "outputs": [
    {
     "data": {
      "text/plain": [
       "array([False])"
      ]
     },
     "execution_count": 186,
     "metadata": {},
     "output_type": "execute_result"
    }
   ],
   "source": [
    "artist_double.unique()"
   ]
  },
  {
   "cell_type": "code",
   "execution_count": 187,
   "id": "843dafab-9b93-4885-b5d7-8b6e0b6eedb2",
   "metadata": {},
   "outputs": [],
   "source": [
    "# 저장하기"
   ]
  },
  {
   "cell_type": "code",
   "execution_count": 190,
   "id": "7f9c83f6-24a7-46fc-bfd1-17fc8d3a4f3f",
   "metadata": {},
   "outputs": [],
   "source": [
    "artist_inpark.to_csv('../ticketMerge/artist_inpark.csv')"
   ]
  },
  {
   "cell_type": "code",
   "execution_count": null,
   "id": "7c53853d-c0be-4cd3-b9b3-3a0397fafe07",
   "metadata": {},
   "outputs": [],
   "source": []
  },
  {
   "cell_type": "code",
   "execution_count": null,
   "id": "a781e231-a661-4292-95c3-07fdf384d817",
   "metadata": {},
   "outputs": [],
   "source": []
  }
 ],
 "metadata": {
  "kernelspec": {
   "display_name": "Python 3 (ipykernel)",
   "language": "python",
   "name": "python3"
  },
  "language_info": {
   "codemirror_mode": {
    "name": "ipython",
    "version": 3
   },
   "file_extension": ".py",
   "mimetype": "text/x-python",
   "name": "python",
   "nbconvert_exporter": "python",
   "pygments_lexer": "ipython3",
   "version": "3.11.7"
  }
 },
 "nbformat": 4,
 "nbformat_minor": 5
}
