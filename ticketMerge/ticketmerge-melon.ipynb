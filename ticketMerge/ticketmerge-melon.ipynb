{
 "cells": [
  {
   "cell_type": "markdown",
   "id": "92fe1142-7301-4869-9cca-6aa5f89bdfc4",
   "metadata": {},
   "source": [
    "##### 요구사항\n",
    "* 공연기간을 시작일과 종료일로 나누어 두 개의 컬럼에 넣기 <br>\n",
    "* 현재일 기준으로 종료된 공연 삭제 <br>\n",
    "* 'URL' 결측치에 기본 프로필 이미지 넣기 <br>\n",
    "* 모든 사이트의 공연데이터를 하나로 합치기 <br>"
   ]
  },
  {
   "cell_type": "markdown",
   "id": "7476b46c-7dc9-4d85-a28c-3d8e8c3e2c22",
   "metadata": {},
   "source": [
    "### 공연데이터 정리하기"
   ]
  },
  {
   "cell_type": "code",
   "execution_count": 75,
   "id": "38abbb75-4837-4e88-8b0d-5ba98e105ea8",
   "metadata": {},
   "outputs": [],
   "source": [
    "import pandas as pd\n",
    "import numpy as np"
   ]
  },
  {
   "cell_type": "code",
   "execution_count": 76,
   "id": "c4b5bec9-153b-4a31-a1ed-1abe0f301721",
   "metadata": {},
   "outputs": [],
   "source": [
    "df_melon = pd.read_csv('../ticketMerge/티켓머지_일정데이터/melon_data.csv')"
   ]
  },
  {
   "cell_type": "code",
   "execution_count": 77,
   "id": "498c97d9-f307-467d-ad20-2cf7ab9ac806",
   "metadata": {},
   "outputs": [
    {
     "data": {
      "text/html": [
       "<div>\n",
       "<style scoped>\n",
       "    .dataframe tbody tr th:only-of-type {\n",
       "        vertical-align: middle;\n",
       "    }\n",
       "\n",
       "    .dataframe tbody tr th {\n",
       "        vertical-align: top;\n",
       "    }\n",
       "\n",
       "    .dataframe thead th {\n",
       "        text-align: right;\n",
       "    }\n",
       "</style>\n",
       "<table border=\"1\" class=\"dataframe\">\n",
       "  <thead>\n",
       "    <tr style=\"text-align: right;\">\n",
       "      <th></th>\n",
       "      <th>상품 제목</th>\n",
       "      <th>포스터 URL</th>\n",
       "      <th>상세 포스터 URL</th>\n",
       "      <th>공연장소</th>\n",
       "      <th>공연기간</th>\n",
       "      <th>캐스팅 리스트</th>\n",
       "      <th>해당 링크</th>\n",
       "    </tr>\n",
       "  </thead>\n",
       "  <tbody>\n",
       "    <tr>\n",
       "      <th>0</th>\n",
       "      <td>2024 BAEKHYUN ASIA TOUR ‘Lonsdaleite［dot］’</td>\n",
       "      <td>https://cdnticket.melon.co.kr/resource/image/u...</td>\n",
       "      <td>https://cdnticket.melon.co.kr/resource/image/u...</td>\n",
       "      <td>KSPO DOME (올림픽 체조경기장)</td>\n",
       "      <td>2024.07.27 - 2024.07.28</td>\n",
       "      <td>['백현 (BAEKHYUN)']</td>\n",
       "      <td>https://ticket.melon.com/performance/index.htm...</td>\n",
       "    </tr>\n",
       "    <tr>\n",
       "      <th>1</th>\n",
       "      <td>IVE THE 1ST WORLD TOUR ‘SHOW WHAT I HAVE’－ENCORE</td>\n",
       "      <td>https://cdnticket.melon.co.kr/resource/image/u...</td>\n",
       "      <td>https://cdnticket.melon.co.kr/resource/image/u...</td>\n",
       "      <td>KSPO DOME (올림픽 체조경기장)</td>\n",
       "      <td>2024.08.10 - 2024.08.11</td>\n",
       "      <td>['IVE (아이브)']</td>\n",
       "      <td>https://ticket.melon.com/performance/index.htm...</td>\n",
       "    </tr>\n",
       "  </tbody>\n",
       "</table>\n",
       "</div>"
      ],
      "text/plain": [
       "                                              상품 제목  \\\n",
       "0        2024 BAEKHYUN ASIA TOUR ‘Lonsdaleite［dot］’   \n",
       "1  IVE THE 1ST WORLD TOUR ‘SHOW WHAT I HAVE’－ENCORE   \n",
       "\n",
       "                                             포스터 URL  \\\n",
       "0  https://cdnticket.melon.co.kr/resource/image/u...   \n",
       "1  https://cdnticket.melon.co.kr/resource/image/u...   \n",
       "\n",
       "                                          상세 포스터 URL                   공연장소  \\\n",
       "0  https://cdnticket.melon.co.kr/resource/image/u...  KSPO DOME (올림픽 체조경기장)   \n",
       "1  https://cdnticket.melon.co.kr/resource/image/u...  KSPO DOME (올림픽 체조경기장)   \n",
       "\n",
       "                      공연기간            캐스팅 리스트  \\\n",
       "0  2024.07.27 - 2024.07.28  ['백현 (BAEKHYUN)']   \n",
       "1  2024.08.10 - 2024.08.11      ['IVE (아이브)']   \n",
       "\n",
       "                                               해당 링크  \n",
       "0  https://ticket.melon.com/performance/index.htm...  \n",
       "1  https://ticket.melon.com/performance/index.htm...  "
      ]
     },
     "execution_count": 77,
     "metadata": {},
     "output_type": "execute_result"
    }
   ],
   "source": [
    "df_melon.head(2)"
   ]
  },
  {
   "cell_type": "code",
   "execution_count": 78,
   "id": "550d2b44-2ea1-447e-93d9-320393cd7d4f",
   "metadata": {},
   "outputs": [],
   "source": [
    "# 결측치 확인"
   ]
  },
  {
   "cell_type": "code",
   "execution_count": 79,
   "id": "afce7e83-42fa-4472-9407-46d4a43ad54b",
   "metadata": {},
   "outputs": [
    {
     "data": {
      "text/plain": [
       "상품 제목         0\n",
       "포스터 URL       0\n",
       "상세 포스터 URL    3\n",
       "공연장소          0\n",
       "공연기간          0\n",
       "캐스팅 리스트       0\n",
       "해당 링크         0\n",
       "dtype: int64"
      ]
     },
     "execution_count": 79,
     "metadata": {},
     "output_type": "execute_result"
    }
   ],
   "source": [
    "df_melon.isna().sum()"
   ]
  },
  {
   "cell_type": "code",
   "execution_count": 80,
   "id": "ccf02658-fffa-4b9a-a1dd-a9bf97824b04",
   "metadata": {},
   "outputs": [],
   "source": [
    "# 공연시간을 안전하게 dt_melon으로 별도 저장하여 시작일과 종료일 두 컬럼으로 분리하여 넣어주기"
   ]
  },
  {
   "cell_type": "code",
   "execution_count": 81,
   "id": "24999dc7-6f5d-4db6-adab-a89b74a03214",
   "metadata": {},
   "outputs": [],
   "source": [
    "dt_melon = pd.DataFrame(df_melon['공연기간']) "
   ]
  },
  {
   "cell_type": "code",
   "execution_count": 82,
   "id": "eeae7ea8-caa4-4196-bc0e-d1b203fd9df3",
   "metadata": {},
   "outputs": [
    {
     "data": {
      "text/html": [
       "<div>\n",
       "<style scoped>\n",
       "    .dataframe tbody tr th:only-of-type {\n",
       "        vertical-align: middle;\n",
       "    }\n",
       "\n",
       "    .dataframe tbody tr th {\n",
       "        vertical-align: top;\n",
       "    }\n",
       "\n",
       "    .dataframe thead th {\n",
       "        text-align: right;\n",
       "    }\n",
       "</style>\n",
       "<table border=\"1\" class=\"dataframe\">\n",
       "  <thead>\n",
       "    <tr style=\"text-align: right;\">\n",
       "      <th></th>\n",
       "      <th>공연기간</th>\n",
       "    </tr>\n",
       "  </thead>\n",
       "  <tbody>\n",
       "    <tr>\n",
       "      <th>0</th>\n",
       "      <td>2024.07.27 - 2024.07.28</td>\n",
       "    </tr>\n",
       "    <tr>\n",
       "      <th>1</th>\n",
       "      <td>2024.08.10 - 2024.08.11</td>\n",
       "    </tr>\n",
       "    <tr>\n",
       "      <th>2</th>\n",
       "      <td>2024.08.10 - 2024.08.10</td>\n",
       "    </tr>\n",
       "    <tr>\n",
       "      <th>3</th>\n",
       "      <td>2024.07.27 - 2024.07.27</td>\n",
       "    </tr>\n",
       "    <tr>\n",
       "      <th>4</th>\n",
       "      <td>2024.07.27 - 2024.07.27</td>\n",
       "    </tr>\n",
       "    <tr>\n",
       "      <th>...</th>\n",
       "      <td>...</td>\n",
       "    </tr>\n",
       "    <tr>\n",
       "      <th>104</th>\n",
       "      <td>2024.08.20 - 2024.08.20</td>\n",
       "    </tr>\n",
       "    <tr>\n",
       "      <th>105</th>\n",
       "      <td>2024.08.31 - 2024.08.31</td>\n",
       "    </tr>\n",
       "    <tr>\n",
       "      <th>106</th>\n",
       "      <td>2024.09.14 - 2024.09.15</td>\n",
       "    </tr>\n",
       "    <tr>\n",
       "      <th>107</th>\n",
       "      <td>2024.11.08 - 2024.11.08</td>\n",
       "    </tr>\n",
       "    <tr>\n",
       "      <th>108</th>\n",
       "      <td>2024.06.28 - 2024.06.28</td>\n",
       "    </tr>\n",
       "  </tbody>\n",
       "</table>\n",
       "<p>109 rows × 1 columns</p>\n",
       "</div>"
      ],
      "text/plain": [
       "                        공연기간\n",
       "0    2024.07.27 - 2024.07.28\n",
       "1    2024.08.10 - 2024.08.11\n",
       "2    2024.08.10 - 2024.08.10\n",
       "3    2024.07.27 - 2024.07.27\n",
       "4    2024.07.27 - 2024.07.27\n",
       "..                       ...\n",
       "104  2024.08.20 - 2024.08.20\n",
       "105  2024.08.31 - 2024.08.31\n",
       "106  2024.09.14 - 2024.09.15\n",
       "107  2024.11.08 - 2024.11.08\n",
       "108  2024.06.28 - 2024.06.28\n",
       "\n",
       "[109 rows x 1 columns]"
      ]
     },
     "execution_count": 82,
     "metadata": {},
     "output_type": "execute_result"
    }
   ],
   "source": [
    "dt_melon"
   ]
  },
  {
   "cell_type": "code",
   "execution_count": 83,
   "id": "7b4b6228-8f6c-4dc7-8ea8-2e0f9c87f7dc",
   "metadata": {},
   "outputs": [],
   "source": [
    "# \"-\"를 기준으로 공연기간 분리\n",
    "# 시작일과 종료일로 나누기"
   ]
  },
  {
   "cell_type": "code",
   "execution_count": 84,
   "id": "b1656903-7aa4-418e-b5e4-21aeb46aaa88",
   "metadata": {},
   "outputs": [],
   "source": [
    "dt_melon[['시작일', '종료일']] = dt_melon['공연기간'].str.split(' - ', expand=True)"
   ]
  },
  {
   "cell_type": "code",
   "execution_count": 85,
   "id": "f8a11e1b-fc46-4e3e-a222-b9220ca8d6a2",
   "metadata": {},
   "outputs": [
    {
     "data": {
      "text/html": [
       "<div>\n",
       "<style scoped>\n",
       "    .dataframe tbody tr th:only-of-type {\n",
       "        vertical-align: middle;\n",
       "    }\n",
       "\n",
       "    .dataframe tbody tr th {\n",
       "        vertical-align: top;\n",
       "    }\n",
       "\n",
       "    .dataframe thead th {\n",
       "        text-align: right;\n",
       "    }\n",
       "</style>\n",
       "<table border=\"1\" class=\"dataframe\">\n",
       "  <thead>\n",
       "    <tr style=\"text-align: right;\">\n",
       "      <th></th>\n",
       "      <th>공연기간</th>\n",
       "      <th>시작일</th>\n",
       "      <th>종료일</th>\n",
       "    </tr>\n",
       "  </thead>\n",
       "  <tbody>\n",
       "    <tr>\n",
       "      <th>0</th>\n",
       "      <td>2024.07.27 - 2024.07.28</td>\n",
       "      <td>2024.07.27</td>\n",
       "      <td>2024.07.28</td>\n",
       "    </tr>\n",
       "    <tr>\n",
       "      <th>1</th>\n",
       "      <td>2024.08.10 - 2024.08.11</td>\n",
       "      <td>2024.08.10</td>\n",
       "      <td>2024.08.11</td>\n",
       "    </tr>\n",
       "    <tr>\n",
       "      <th>2</th>\n",
       "      <td>2024.08.10 - 2024.08.10</td>\n",
       "      <td>2024.08.10</td>\n",
       "      <td>2024.08.10</td>\n",
       "    </tr>\n",
       "    <tr>\n",
       "      <th>3</th>\n",
       "      <td>2024.07.27 - 2024.07.27</td>\n",
       "      <td>2024.07.27</td>\n",
       "      <td>2024.07.27</td>\n",
       "    </tr>\n",
       "    <tr>\n",
       "      <th>4</th>\n",
       "      <td>2024.07.27 - 2024.07.27</td>\n",
       "      <td>2024.07.27</td>\n",
       "      <td>2024.07.27</td>\n",
       "    </tr>\n",
       "    <tr>\n",
       "      <th>...</th>\n",
       "      <td>...</td>\n",
       "      <td>...</td>\n",
       "      <td>...</td>\n",
       "    </tr>\n",
       "    <tr>\n",
       "      <th>104</th>\n",
       "      <td>2024.08.20 - 2024.08.20</td>\n",
       "      <td>2024.08.20</td>\n",
       "      <td>2024.08.20</td>\n",
       "    </tr>\n",
       "    <tr>\n",
       "      <th>105</th>\n",
       "      <td>2024.08.31 - 2024.08.31</td>\n",
       "      <td>2024.08.31</td>\n",
       "      <td>2024.08.31</td>\n",
       "    </tr>\n",
       "    <tr>\n",
       "      <th>106</th>\n",
       "      <td>2024.09.14 - 2024.09.15</td>\n",
       "      <td>2024.09.14</td>\n",
       "      <td>2024.09.15</td>\n",
       "    </tr>\n",
       "    <tr>\n",
       "      <th>107</th>\n",
       "      <td>2024.11.08 - 2024.11.08</td>\n",
       "      <td>2024.11.08</td>\n",
       "      <td>2024.11.08</td>\n",
       "    </tr>\n",
       "    <tr>\n",
       "      <th>108</th>\n",
       "      <td>2024.06.28 - 2024.06.28</td>\n",
       "      <td>2024.06.28</td>\n",
       "      <td>2024.06.28</td>\n",
       "    </tr>\n",
       "  </tbody>\n",
       "</table>\n",
       "<p>109 rows × 3 columns</p>\n",
       "</div>"
      ],
      "text/plain": [
       "                        공연기간         시작일         종료일\n",
       "0    2024.07.27 - 2024.07.28  2024.07.27  2024.07.28\n",
       "1    2024.08.10 - 2024.08.11  2024.08.10  2024.08.11\n",
       "2    2024.08.10 - 2024.08.10  2024.08.10  2024.08.10\n",
       "3    2024.07.27 - 2024.07.27  2024.07.27  2024.07.27\n",
       "4    2024.07.27 - 2024.07.27  2024.07.27  2024.07.27\n",
       "..                       ...         ...         ...\n",
       "104  2024.08.20 - 2024.08.20  2024.08.20  2024.08.20\n",
       "105  2024.08.31 - 2024.08.31  2024.08.31  2024.08.31\n",
       "106  2024.09.14 - 2024.09.15  2024.09.14  2024.09.15\n",
       "107  2024.11.08 - 2024.11.08  2024.11.08  2024.11.08\n",
       "108  2024.06.28 - 2024.06.28  2024.06.28  2024.06.28\n",
       "\n",
       "[109 rows x 3 columns]"
      ]
     },
     "execution_count": 85,
     "metadata": {},
     "output_type": "execute_result"
    }
   ],
   "source": [
    "dt_melon"
   ]
  },
  {
   "cell_type": "code",
   "execution_count": 86,
   "id": "3b78a1dc-b4d1-43c2-a63b-02a315f31371",
   "metadata": {},
   "outputs": [],
   "source": [
    "# 필요 없어진 '공연기간' 컬럼 삭제\n",
    "dt_melon = dt_melon.drop(columns=['공연기간'])"
   ]
  },
  {
   "cell_type": "code",
   "execution_count": 87,
   "id": "0e98aac1-4210-41ad-b67d-d1bb487cb807",
   "metadata": {},
   "outputs": [
    {
     "data": {
      "text/html": [
       "<div>\n",
       "<style scoped>\n",
       "    .dataframe tbody tr th:only-of-type {\n",
       "        vertical-align: middle;\n",
       "    }\n",
       "\n",
       "    .dataframe tbody tr th {\n",
       "        vertical-align: top;\n",
       "    }\n",
       "\n",
       "    .dataframe thead th {\n",
       "        text-align: right;\n",
       "    }\n",
       "</style>\n",
       "<table border=\"1\" class=\"dataframe\">\n",
       "  <thead>\n",
       "    <tr style=\"text-align: right;\">\n",
       "      <th></th>\n",
       "      <th>시작일</th>\n",
       "      <th>종료일</th>\n",
       "    </tr>\n",
       "  </thead>\n",
       "  <tbody>\n",
       "    <tr>\n",
       "      <th>0</th>\n",
       "      <td>2024.07.27</td>\n",
       "      <td>2024.07.28</td>\n",
       "    </tr>\n",
       "    <tr>\n",
       "      <th>1</th>\n",
       "      <td>2024.08.10</td>\n",
       "      <td>2024.08.11</td>\n",
       "    </tr>\n",
       "    <tr>\n",
       "      <th>2</th>\n",
       "      <td>2024.08.10</td>\n",
       "      <td>2024.08.10</td>\n",
       "    </tr>\n",
       "    <tr>\n",
       "      <th>3</th>\n",
       "      <td>2024.07.27</td>\n",
       "      <td>2024.07.27</td>\n",
       "    </tr>\n",
       "    <tr>\n",
       "      <th>4</th>\n",
       "      <td>2024.07.27</td>\n",
       "      <td>2024.07.27</td>\n",
       "    </tr>\n",
       "    <tr>\n",
       "      <th>...</th>\n",
       "      <td>...</td>\n",
       "      <td>...</td>\n",
       "    </tr>\n",
       "    <tr>\n",
       "      <th>104</th>\n",
       "      <td>2024.08.20</td>\n",
       "      <td>2024.08.20</td>\n",
       "    </tr>\n",
       "    <tr>\n",
       "      <th>105</th>\n",
       "      <td>2024.08.31</td>\n",
       "      <td>2024.08.31</td>\n",
       "    </tr>\n",
       "    <tr>\n",
       "      <th>106</th>\n",
       "      <td>2024.09.14</td>\n",
       "      <td>2024.09.15</td>\n",
       "    </tr>\n",
       "    <tr>\n",
       "      <th>107</th>\n",
       "      <td>2024.11.08</td>\n",
       "      <td>2024.11.08</td>\n",
       "    </tr>\n",
       "    <tr>\n",
       "      <th>108</th>\n",
       "      <td>2024.06.28</td>\n",
       "      <td>2024.06.28</td>\n",
       "    </tr>\n",
       "  </tbody>\n",
       "</table>\n",
       "<p>109 rows × 2 columns</p>\n",
       "</div>"
      ],
      "text/plain": [
       "            시작일         종료일\n",
       "0    2024.07.27  2024.07.28\n",
       "1    2024.08.10  2024.08.11\n",
       "2    2024.08.10  2024.08.10\n",
       "3    2024.07.27  2024.07.27\n",
       "4    2024.07.27  2024.07.27\n",
       "..          ...         ...\n",
       "104  2024.08.20  2024.08.20\n",
       "105  2024.08.31  2024.08.31\n",
       "106  2024.09.14  2024.09.15\n",
       "107  2024.11.08  2024.11.08\n",
       "108  2024.06.28  2024.06.28\n",
       "\n",
       "[109 rows x 2 columns]"
      ]
     },
     "execution_count": 87,
     "metadata": {},
     "output_type": "execute_result"
    }
   ],
   "source": [
    "dt_melon"
   ]
  },
  {
   "cell_type": "code",
   "execution_count": 88,
   "id": "98a0c350-7e4b-4fac-8b5c-836c4728d347",
   "metadata": {},
   "outputs": [
    {
     "data": {
      "text/plain": [
       "시작일    0\n",
       "종료일    0\n",
       "dtype: int64"
      ]
     },
     "execution_count": 88,
     "metadata": {},
     "output_type": "execute_result"
    }
   ],
   "source": [
    "dt_melon.isna().sum()"
   ]
  },
  {
   "cell_type": "code",
   "execution_count": 89,
   "id": "8304e111-7939-4fda-9ce6-f18804a44f78",
   "metadata": {},
   "outputs": [],
   "source": [
    "# 원래 데이터와 합치기"
   ]
  },
  {
   "cell_type": "code",
   "execution_count": 90,
   "id": "9cf57b21-de9f-4d95-83fc-6e543073897c",
   "metadata": {},
   "outputs": [],
   "source": [
    "df_melon = pd.concat([df_melon, dt_melon], axis=1)"
   ]
  },
  {
   "cell_type": "code",
   "execution_count": 91,
   "id": "1039e4c6-58ff-46b5-b2ab-63ffbb8262b2",
   "metadata": {},
   "outputs": [],
   "source": [
    "df_melon = df_melon.drop(columns=['공연기간'])"
   ]
  },
  {
   "cell_type": "code",
   "execution_count": 92,
   "id": "bfced813-267a-48e1-8daf-7c9a1498663b",
   "metadata": {},
   "outputs": [
    {
     "data": {
      "text/html": [
       "<div>\n",
       "<style scoped>\n",
       "    .dataframe tbody tr th:only-of-type {\n",
       "        vertical-align: middle;\n",
       "    }\n",
       "\n",
       "    .dataframe tbody tr th {\n",
       "        vertical-align: top;\n",
       "    }\n",
       "\n",
       "    .dataframe thead th {\n",
       "        text-align: right;\n",
       "    }\n",
       "</style>\n",
       "<table border=\"1\" class=\"dataframe\">\n",
       "  <thead>\n",
       "    <tr style=\"text-align: right;\">\n",
       "      <th></th>\n",
       "      <th>상품 제목</th>\n",
       "      <th>포스터 URL</th>\n",
       "      <th>상세 포스터 URL</th>\n",
       "      <th>공연장소</th>\n",
       "      <th>캐스팅 리스트</th>\n",
       "      <th>해당 링크</th>\n",
       "      <th>시작일</th>\n",
       "      <th>종료일</th>\n",
       "    </tr>\n",
       "  </thead>\n",
       "  <tbody>\n",
       "    <tr>\n",
       "      <th>0</th>\n",
       "      <td>2024 BAEKHYUN ASIA TOUR ‘Lonsdaleite［dot］’</td>\n",
       "      <td>https://cdnticket.melon.co.kr/resource/image/u...</td>\n",
       "      <td>https://cdnticket.melon.co.kr/resource/image/u...</td>\n",
       "      <td>KSPO DOME (올림픽 체조경기장)</td>\n",
       "      <td>['백현 (BAEKHYUN)']</td>\n",
       "      <td>https://ticket.melon.com/performance/index.htm...</td>\n",
       "      <td>2024.07.27</td>\n",
       "      <td>2024.07.28</td>\n",
       "    </tr>\n",
       "  </tbody>\n",
       "</table>\n",
       "</div>"
      ],
      "text/plain": [
       "                                        상품 제목  \\\n",
       "0  2024 BAEKHYUN ASIA TOUR ‘Lonsdaleite［dot］’   \n",
       "\n",
       "                                             포스터 URL  \\\n",
       "0  https://cdnticket.melon.co.kr/resource/image/u...   \n",
       "\n",
       "                                          상세 포스터 URL                   공연장소  \\\n",
       "0  https://cdnticket.melon.co.kr/resource/image/u...  KSPO DOME (올림픽 체조경기장)   \n",
       "\n",
       "             캐스팅 리스트                                              해당 링크  \\\n",
       "0  ['백현 (BAEKHYUN)']  https://ticket.melon.com/performance/index.htm...   \n",
       "\n",
       "          시작일         종료일  \n",
       "0  2024.07.27  2024.07.28  "
      ]
     },
     "execution_count": 92,
     "metadata": {},
     "output_type": "execute_result"
    }
   ],
   "source": [
    "df_melon.head(1)"
   ]
  },
  {
   "cell_type": "code",
   "execution_count": 93,
   "id": "b969b594-7586-4b55-acb0-413779592121",
   "metadata": {},
   "outputs": [
    {
     "data": {
      "text/plain": [
       "상품 제목         0\n",
       "포스터 URL       0\n",
       "상세 포스터 URL    3\n",
       "공연장소          0\n",
       "캐스팅 리스트       0\n",
       "해당 링크         0\n",
       "시작일           0\n",
       "종료일           0\n",
       "dtype: int64"
      ]
     },
     "execution_count": 93,
     "metadata": {},
     "output_type": "execute_result"
    }
   ],
   "source": [
    "df_melon.isna().sum()"
   ]
  },
  {
   "cell_type": "code",
   "execution_count": 94,
   "id": "7a2c5f81-7e63-4b13-9c72-df9426ed5155",
   "metadata": {},
   "outputs": [],
   "source": [
    "# 상세 포스터 URL 에 nan 자리에 기본이미지 넣어주기\n",
    "# 기본 이미지 : 'https://i.namu.wiki/i/Q_IXq7dWDGtUxGHGKbRCC5_I9X2AG7tvZRs8D3Bs34AV6mumP0Sqou_0NP3yqzbWM9X3LiaKIhBFYMsS-ZGt5xbSKxFUtTGEWVt3p9lIgQ8MTJwrTXEK44Mw-kGAVpnnUs41zeeXbi6Zqpsm_6Qa_A.webp'"
   ]
  },
  {
   "cell_type": "code",
   "execution_count": 95,
   "id": "e4a822c6-b97b-490d-b574-5c45b3df2d7e",
   "metadata": {},
   "outputs": [],
   "source": [
    "df_melon['상세 포스터 URL'].fillna('https://i.namu.wiki/i/Q_IXq7dWDGtUxGHGKbRCC5_I9X2AG7tvZRs8D3Bs34AV6mumP0Sqou_0NP3yqzbWM9X3LiaKIhBFYMsS-ZGt5xbSKxFUtTGEWVt3p9lIgQ8MTJwrTXEK44Mw-kGAVpnnUs41zeeXbi6Zqpsm_6Qa_A.webp', inplace=True)"
   ]
  },
  {
   "cell_type": "code",
   "execution_count": 96,
   "id": "1d92ee67-d2aa-48f6-a8ae-fba91888e765",
   "metadata": {},
   "outputs": [
    {
     "data": {
      "text/plain": [
       "상품 제목         0\n",
       "포스터 URL       0\n",
       "상세 포스터 URL    0\n",
       "공연장소          0\n",
       "캐스팅 리스트       0\n",
       "해당 링크         0\n",
       "시작일           0\n",
       "종료일           0\n",
       "dtype: int64"
      ]
     },
     "execution_count": 96,
     "metadata": {},
     "output_type": "execute_result"
    }
   ],
   "source": [
    "df_melon.isna().sum()"
   ]
  },
  {
   "cell_type": "code",
   "execution_count": 97,
   "id": "2744ca6f-5b4a-4c08-9b5a-60231307d2f5",
   "metadata": {},
   "outputs": [
    {
     "name": "stdout",
     "output_type": "stream",
     "text": [
      "<class 'pandas.core.frame.DataFrame'>\n",
      "RangeIndex: 109 entries, 0 to 108\n",
      "Data columns (total 8 columns):\n",
      " #   Column      Non-Null Count  Dtype \n",
      "---  ------      --------------  ----- \n",
      " 0   상품 제목       109 non-null    object\n",
      " 1   포스터 URL     109 non-null    object\n",
      " 2   상세 포스터 URL  109 non-null    object\n",
      " 3   공연장소        109 non-null    object\n",
      " 4   캐스팅 리스트     109 non-null    object\n",
      " 5   해당 링크       109 non-null    object\n",
      " 6   시작일         109 non-null    object\n",
      " 7   종료일         109 non-null    object\n",
      "dtypes: object(8)\n",
      "memory usage: 6.9+ KB\n"
     ]
    }
   ],
   "source": [
    "df_melon.info()"
   ]
  },
  {
   "cell_type": "code",
   "execution_count": 98,
   "id": "405de73d-9d0f-495a-ad75-39af2cdaeb61",
   "metadata": {},
   "outputs": [],
   "source": [
    "# 종료일을 'date' 데이터 타입으로 변환하고 현재일 기준으로, 종료된 공연 삭제하기"
   ]
  },
  {
   "cell_type": "code",
   "execution_count": 99,
   "id": "a64da3b2-8383-4206-9afa-c318b1ae851e",
   "metadata": {},
   "outputs": [],
   "source": [
    "df_melon['종료일_date'] = pd.to_datetime(df_melon['종료일'])"
   ]
  },
  {
   "cell_type": "code",
   "execution_count": 100,
   "id": "49298fbb-ffcb-4116-ac05-4318761cdc5b",
   "metadata": {},
   "outputs": [
    {
     "data": {
      "text/plain": [
       "0     2024-07-28\n",
       "1     2024-08-11\n",
       "2     2024-08-10\n",
       "3     2024-07-27\n",
       "4     2024-07-27\n",
       "         ...    \n",
       "104   2024-08-20\n",
       "105   2024-08-31\n",
       "106   2024-09-15\n",
       "107   2024-11-08\n",
       "108   2024-06-28\n",
       "Name: 종료일_date, Length: 109, dtype: datetime64[ns]"
      ]
     },
     "execution_count": 100,
     "metadata": {},
     "output_type": "execute_result"
    }
   ],
   "source": [
    "df_melon['종료일_date']"
   ]
  },
  {
   "cell_type": "code",
   "execution_count": 101,
   "id": "a4e3ea39-fec1-42c2-a16d-24fc789f3f4a",
   "metadata": {},
   "outputs": [],
   "source": [
    "import datetime as dt"
   ]
  },
  {
   "cell_type": "code",
   "execution_count": 102,
   "id": "424b5350-438a-47fd-b584-b639f5baf8d5",
   "metadata": {},
   "outputs": [
    {
     "data": {
      "text/plain": [
       "datetime.datetime(2024, 7, 5, 15, 45, 49, 400817)"
      ]
     },
     "execution_count": 102,
     "metadata": {},
     "output_type": "execute_result"
    }
   ],
   "source": [
    "dt.datetime.now()"
   ]
  },
  {
   "cell_type": "code",
   "execution_count": 103,
   "id": "46a654a6-894c-457d-943f-b6545d756a91",
   "metadata": {},
   "outputs": [],
   "source": [
    "current = dt.datetime.now()"
   ]
  },
  {
   "cell_type": "code",
   "execution_count": 104,
   "id": "ba60f979-7619-4221-9328-b12bbe7df268",
   "metadata": {},
   "outputs": [],
   "source": [
    "df_melon = df_melon[df_melon['종료일_date'] >= current]"
   ]
  },
  {
   "cell_type": "code",
   "execution_count": 105,
   "id": "4a443776-83a8-4d90-b90a-ac86c92c689b",
   "metadata": {},
   "outputs": [
    {
     "data": {
      "text/plain": [
       "0      True\n",
       "1      True\n",
       "2      True\n",
       "3      True\n",
       "4      True\n",
       "       ... \n",
       "103    True\n",
       "104    True\n",
       "105    True\n",
       "106    True\n",
       "107    True\n",
       "Name: 종료일_date, Length: 77, dtype: bool"
      ]
     },
     "execution_count": 105,
     "metadata": {},
     "output_type": "execute_result"
    }
   ],
   "source": [
    "df_melon['종료일_date'] >= current"
   ]
  },
  {
   "cell_type": "code",
   "execution_count": 121,
   "id": "7bc937d0-94ad-4572-ab61-86e64ebc34b2",
   "metadata": {},
   "outputs": [
    {
     "data": {
      "text/html": [
       "<div>\n",
       "<style scoped>\n",
       "    .dataframe tbody tr th:only-of-type {\n",
       "        vertical-align: middle;\n",
       "    }\n",
       "\n",
       "    .dataframe tbody tr th {\n",
       "        vertical-align: top;\n",
       "    }\n",
       "\n",
       "    .dataframe thead th {\n",
       "        text-align: right;\n",
       "    }\n",
       "</style>\n",
       "<table border=\"1\" class=\"dataframe\">\n",
       "  <thead>\n",
       "    <tr style=\"text-align: right;\">\n",
       "      <th></th>\n",
       "      <th>상품 제목</th>\n",
       "      <th>포스터 URL</th>\n",
       "      <th>상세 포스터 URL</th>\n",
       "      <th>공연장소</th>\n",
       "      <th>캐스팅 리스트</th>\n",
       "      <th>해당 링크</th>\n",
       "      <th>시작일</th>\n",
       "      <th>종료일</th>\n",
       "      <th>종료일_date</th>\n",
       "    </tr>\n",
       "  </thead>\n",
       "  <tbody>\n",
       "    <tr>\n",
       "      <th>0</th>\n",
       "      <td>2024 BAEKHYUN ASIA TOUR ‘Lonsdaleite［dot］’</td>\n",
       "      <td>https://cdnticket.melon.co.kr/resource/image/u...</td>\n",
       "      <td>https://cdnticket.melon.co.kr/resource/image/u...</td>\n",
       "      <td>KSPO DOME (올림픽 체조경기장)</td>\n",
       "      <td>백현 (BAEKHYUN)</td>\n",
       "      <td>https://ticket.melon.com/performance/index.htm...</td>\n",
       "      <td>2024.07.27</td>\n",
       "      <td>2024.07.28</td>\n",
       "      <td>2024-07-28</td>\n",
       "    </tr>\n",
       "    <tr>\n",
       "      <th>1</th>\n",
       "      <td>IVE THE 1ST WORLD TOUR ‘SHOW WHAT I HAVE’－ENCORE</td>\n",
       "      <td>https://cdnticket.melon.co.kr/resource/image/u...</td>\n",
       "      <td>https://cdnticket.melon.co.kr/resource/image/u...</td>\n",
       "      <td>KSPO DOME (올림픽 체조경기장)</td>\n",
       "      <td>IVE (아이브)</td>\n",
       "      <td>https://ticket.melon.com/performance/index.htm...</td>\n",
       "      <td>2024.08.10</td>\n",
       "      <td>2024.08.11</td>\n",
       "      <td>2024-08-11</td>\n",
       "    </tr>\n",
       "  </tbody>\n",
       "</table>\n",
       "</div>"
      ],
      "text/plain": [
       "                                              상품 제목  \\\n",
       "0        2024 BAEKHYUN ASIA TOUR ‘Lonsdaleite［dot］’   \n",
       "1  IVE THE 1ST WORLD TOUR ‘SHOW WHAT I HAVE’－ENCORE   \n",
       "\n",
       "                                             포스터 URL  \\\n",
       "0  https://cdnticket.melon.co.kr/resource/image/u...   \n",
       "1  https://cdnticket.melon.co.kr/resource/image/u...   \n",
       "\n",
       "                                          상세 포스터 URL                   공연장소  \\\n",
       "0  https://cdnticket.melon.co.kr/resource/image/u...  KSPO DOME (올림픽 체조경기장)   \n",
       "1  https://cdnticket.melon.co.kr/resource/image/u...  KSPO DOME (올림픽 체조경기장)   \n",
       "\n",
       "         캐스팅 리스트                                              해당 링크  \\\n",
       "0  백현 (BAEKHYUN)  https://ticket.melon.com/performance/index.htm...   \n",
       "1      IVE (아이브)  https://ticket.melon.com/performance/index.htm...   \n",
       "\n",
       "          시작일         종료일   종료일_date  \n",
       "0  2024.07.27  2024.07.28 2024-07-28  \n",
       "1  2024.08.10  2024.08.11 2024-08-11  "
      ]
     },
     "execution_count": 121,
     "metadata": {},
     "output_type": "execute_result"
    }
   ],
   "source": [
    "df_melon.head(2)"
   ]
  },
  {
   "cell_type": "code",
   "execution_count": 106,
   "id": "9071b59f-410b-47bb-8c7c-9f13eb7aab8d",
   "metadata": {},
   "outputs": [],
   "source": [
    "current_date = df_melon['종료일_date'] >= current"
   ]
  },
  {
   "cell_type": "code",
   "execution_count": 107,
   "id": "7772a449-f889-4ff7-bacb-a81eaf60e2f0",
   "metadata": {},
   "outputs": [
    {
     "data": {
      "text/plain": [
       "array([ True])"
      ]
     },
     "execution_count": 107,
     "metadata": {},
     "output_type": "execute_result"
    }
   ],
   "source": [
    "current_date.unique()"
   ]
  },
  {
   "cell_type": "code",
   "execution_count": 108,
   "id": "0f090b05-ce5d-4065-b411-6f504ddcc65b",
   "metadata": {},
   "outputs": [],
   "source": [
    "# 캐스팅 리스트에서 가수 이름을 , 로 구별하여 나열하기\n",
    "# [ , ] , '  문자 삭제하기"
   ]
  },
  {
   "cell_type": "code",
   "execution_count": 109,
   "id": "c8a5ad2b-da5f-4740-9728-6affdceac7b4",
   "metadata": {},
   "outputs": [
    {
     "data": {
      "text/plain": [
       "0                                      ['백현 (BAEKHYUN)']\n",
       "1                                          ['IVE (아이브)']\n",
       "2                                                ['박서준']\n",
       "3                                                     []\n",
       "4                                                ['이준형']\n",
       "                             ...                        \n",
       "103                                                   []\n",
       "104                                              ['AJR']\n",
       "105    ['Kazumi Tateishi Trio', 'Yoshida Keico', '젠틀레...\n",
       "106                                            ['RIIZE']\n",
       "107                                     ['Matt Maltese']\n",
       "Name: 캐스팅 리스트, Length: 77, dtype: object"
      ]
     },
     "execution_count": 109,
     "metadata": {},
     "output_type": "execute_result"
    }
   ],
   "source": [
    "df_melon['캐스팅 리스트']"
   ]
  },
  {
   "cell_type": "code",
   "execution_count": 110,
   "id": "cd83dc11-a022-45eb-80d3-4a587d6dbef2",
   "metadata": {},
   "outputs": [],
   "source": [
    "df_melon['캐스팅 리스트'] = df_melon['캐스팅 리스트'].str.replace('[', '').str.replace(']', '').str.replace(\"'\", \"\")"
   ]
  },
  {
   "cell_type": "code",
   "execution_count": 111,
   "id": "6e1ea18b-59a9-4afa-acf6-c741b569173e",
   "metadata": {},
   "outputs": [
    {
     "data": {
      "text/plain": [
       "0                                          백현 (BAEKHYUN)\n",
       "1                                              IVE (아이브)\n",
       "2                                                    박서준\n",
       "3                                                       \n",
       "4                                                    이준형\n",
       "                             ...                        \n",
       "103                                                     \n",
       "104                                                  AJR\n",
       "105    Kazumi Tateishi Trio, Yoshida Keico, 젠틀레인 (Gen...\n",
       "106                                                RIIZE\n",
       "107                                         Matt Maltese\n",
       "Name: 캐스팅 리스트, Length: 77, dtype: object"
      ]
     },
     "execution_count": 111,
     "metadata": {},
     "output_type": "execute_result"
    }
   ],
   "source": [
    "df_melon['캐스팅 리스트']"
   ]
  },
  {
   "cell_type": "code",
   "execution_count": 112,
   "id": "9e652262-3716-4556-96d2-6d3e7da16e00",
   "metadata": {},
   "outputs": [],
   "source": [
    "# csv 파일로 저장하기"
   ]
  },
  {
   "cell_type": "code",
   "execution_count": 122,
   "id": "12c63e65-c891-4c6f-9f73-cc1b1a661926",
   "metadata": {},
   "outputs": [],
   "source": [
    "df_melon.to_csv('../ticketMerge/df_melon.csv')"
   ]
  },
  {
   "cell_type": "code",
   "execution_count": null,
   "id": "00774b1a-0502-4bac-9848-21c7447d9bfc",
   "metadata": {},
   "outputs": [],
   "source": []
  },
  {
   "cell_type": "code",
   "execution_count": null,
   "id": "d19f7a96-ada9-4986-be26-69094c604b51",
   "metadata": {},
   "outputs": [],
   "source": []
  },
  {
   "cell_type": "markdown",
   "id": "dab0cd79-12d8-4410-934f-907edaa6209d",
   "metadata": {},
   "source": [
    "#### 가수데이터 정리하기"
   ]
  },
  {
   "cell_type": "code",
   "execution_count": 114,
   "id": "9feed919-3b35-4b26-bbe9-028b9796f79f",
   "metadata": {},
   "outputs": [],
   "source": [
    "artist_melon = pd.read_csv('../ticketMerge/티켓머지_아티스트데이터/melon_artist.csv')"
   ]
  },
  {
   "cell_type": "code",
   "execution_count": 115,
   "id": "93314247-d242-4951-8ce1-14eb62db2ef1",
   "metadata": {},
   "outputs": [
    {
     "data": {
      "text/html": [
       "<div>\n",
       "<style scoped>\n",
       "    .dataframe tbody tr th:only-of-type {\n",
       "        vertical-align: middle;\n",
       "    }\n",
       "\n",
       "    .dataframe tbody tr th {\n",
       "        vertical-align: top;\n",
       "    }\n",
       "\n",
       "    .dataframe thead th {\n",
       "        text-align: right;\n",
       "    }\n",
       "</style>\n",
       "<table border=\"1\" class=\"dataframe\">\n",
       "  <thead>\n",
       "    <tr style=\"text-align: right;\">\n",
       "      <th></th>\n",
       "      <th>이름</th>\n",
       "      <th>URL</th>\n",
       "    </tr>\n",
       "  </thead>\n",
       "  <tbody>\n",
       "    <tr>\n",
       "      <th>0</th>\n",
       "      <td>HYUN)</td>\n",
       "      <td>https://cdnimg.melon.co.kr/cm2/artistcrop/imag...</td>\n",
       "    </tr>\n",
       "    <tr>\n",
       "      <th>1</th>\n",
       "      <td>IVE (아이브)</td>\n",
       "      <td>https://cdnimg.melon.co.kr/cm2/artistcrop/imag...</td>\n",
       "    </tr>\n",
       "    <tr>\n",
       "      <th>2</th>\n",
       "      <td>박서준</td>\n",
       "      <td>https://cdnimg.melon.co.kr/cm/artistcrop/image...</td>\n",
       "    </tr>\n",
       "    <tr>\n",
       "      <th>3</th>\n",
       "      <td>이준형</td>\n",
       "      <td>https://cdnimg.melon.co.kr/cm2/artistcrop/imag...</td>\n",
       "    </tr>\n",
       "    <tr>\n",
       "      <th>4</th>\n",
       "      <td>쿠기 (Coogie)</td>\n",
       "      <td>https://cdnimg.melon.co.kr/cm2/artistcrop/imag...</td>\n",
       "    </tr>\n",
       "    <tr>\n",
       "      <th>...</th>\n",
       "      <td>...</td>\n",
       "      <td>...</td>\n",
       "    </tr>\n",
       "    <tr>\n",
       "      <th>188</th>\n",
       "      <td>젠틀레인 (Gentle Rain)</td>\n",
       "      <td>https://cdnimg.melon.co.kr/cm2/artistcrop/imag...</td>\n",
       "    </tr>\n",
       "    <tr>\n",
       "      <th>189</th>\n",
       "      <td>RIIZE</td>\n",
       "      <td>https://cdnimg.melon.co.kr/cm2/artistcrop/imag...</td>\n",
       "    </tr>\n",
       "    <tr>\n",
       "      <th>190</th>\n",
       "      <td>Matt Maltese</td>\n",
       "      <td>https://cdnimg.melon.co.kr/cm/artistcrop/image...</td>\n",
       "    </tr>\n",
       "    <tr>\n",
       "      <th>191</th>\n",
       "      <td>Chihiro Yamazaki+Route 14 Band</td>\n",
       "      <td>https://cdnimg.melon.co.kr/cm2/artistcrop/imag...</td>\n",
       "    </tr>\n",
       "    <tr>\n",
       "      <th>192</th>\n",
       "      <td>A-FUZZ (에이퍼즈)</td>\n",
       "      <td>https://cdnimg.melon.co.kr/cm2/artistcrop/imag...</td>\n",
       "    </tr>\n",
       "  </tbody>\n",
       "</table>\n",
       "<p>193 rows × 2 columns</p>\n",
       "</div>"
      ],
      "text/plain": [
       "                                 이름  \\\n",
       "0                             HYUN)   \n",
       "1                         IVE (아이브)   \n",
       "2                               박서준   \n",
       "3                               이준형   \n",
       "4                       쿠기 (Coogie)   \n",
       "..                              ...   \n",
       "188              젠틀레인 (Gentle Rain)   \n",
       "189                           RIIZE   \n",
       "190                    Matt Maltese   \n",
       "191  Chihiro Yamazaki+Route 14 Band   \n",
       "192                   A-FUZZ (에이퍼즈)   \n",
       "\n",
       "                                                   URL  \n",
       "0    https://cdnimg.melon.co.kr/cm2/artistcrop/imag...  \n",
       "1    https://cdnimg.melon.co.kr/cm2/artistcrop/imag...  \n",
       "2    https://cdnimg.melon.co.kr/cm/artistcrop/image...  \n",
       "3    https://cdnimg.melon.co.kr/cm2/artistcrop/imag...  \n",
       "4    https://cdnimg.melon.co.kr/cm2/artistcrop/imag...  \n",
       "..                                                 ...  \n",
       "188  https://cdnimg.melon.co.kr/cm2/artistcrop/imag...  \n",
       "189  https://cdnimg.melon.co.kr/cm2/artistcrop/imag...  \n",
       "190  https://cdnimg.melon.co.kr/cm/artistcrop/image...  \n",
       "191  https://cdnimg.melon.co.kr/cm2/artistcrop/imag...  \n",
       "192  https://cdnimg.melon.co.kr/cm2/artistcrop/imag...  \n",
       "\n",
       "[193 rows x 2 columns]"
      ]
     },
     "execution_count": 115,
     "metadata": {},
     "output_type": "execute_result"
    }
   ],
   "source": [
    "artist_melon"
   ]
  },
  {
   "cell_type": "code",
   "execution_count": 116,
   "id": "c847e46b-b945-4a43-81ad-321211477bf8",
   "metadata": {},
   "outputs": [
    {
     "name": "stdout",
     "output_type": "stream",
     "text": [
      "<class 'pandas.core.frame.DataFrame'>\n",
      "RangeIndex: 193 entries, 0 to 192\n",
      "Data columns (total 2 columns):\n",
      " #   Column  Non-Null Count  Dtype \n",
      "---  ------  --------------  ----- \n",
      " 0   이름      193 non-null    object\n",
      " 1   URL     193 non-null    object\n",
      "dtypes: object(2)\n",
      "memory usage: 3.1+ KB\n"
     ]
    }
   ],
   "source": [
    "artist_melon.info()"
   ]
  },
  {
   "cell_type": "code",
   "execution_count": 117,
   "id": "e3921d5f-3b79-4943-9254-9fbc5175afce",
   "metadata": {},
   "outputs": [],
   "source": [
    "artist_melon = artist_melon.drop_duplicates()"
   ]
  },
  {
   "cell_type": "code",
   "execution_count": 118,
   "id": "168a68ed-673b-4b58-b6f1-80c1d923ee80",
   "metadata": {},
   "outputs": [
    {
     "data": {
      "text/html": [
       "<div>\n",
       "<style scoped>\n",
       "    .dataframe tbody tr th:only-of-type {\n",
       "        vertical-align: middle;\n",
       "    }\n",
       "\n",
       "    .dataframe tbody tr th {\n",
       "        vertical-align: top;\n",
       "    }\n",
       "\n",
       "    .dataframe thead th {\n",
       "        text-align: right;\n",
       "    }\n",
       "</style>\n",
       "<table border=\"1\" class=\"dataframe\">\n",
       "  <thead>\n",
       "    <tr style=\"text-align: right;\">\n",
       "      <th></th>\n",
       "      <th>이름</th>\n",
       "      <th>URL</th>\n",
       "    </tr>\n",
       "  </thead>\n",
       "  <tbody>\n",
       "    <tr>\n",
       "      <th>0</th>\n",
       "      <td>HYUN)</td>\n",
       "      <td>https://cdnimg.melon.co.kr/cm2/artistcrop/imag...</td>\n",
       "    </tr>\n",
       "    <tr>\n",
       "      <th>1</th>\n",
       "      <td>IVE (아이브)</td>\n",
       "      <td>https://cdnimg.melon.co.kr/cm2/artistcrop/imag...</td>\n",
       "    </tr>\n",
       "    <tr>\n",
       "      <th>2</th>\n",
       "      <td>박서준</td>\n",
       "      <td>https://cdnimg.melon.co.kr/cm/artistcrop/image...</td>\n",
       "    </tr>\n",
       "    <tr>\n",
       "      <th>3</th>\n",
       "      <td>이준형</td>\n",
       "      <td>https://cdnimg.melon.co.kr/cm2/artistcrop/imag...</td>\n",
       "    </tr>\n",
       "    <tr>\n",
       "      <th>4</th>\n",
       "      <td>쿠기 (Coogie)</td>\n",
       "      <td>https://cdnimg.melon.co.kr/cm2/artistcrop/imag...</td>\n",
       "    </tr>\n",
       "    <tr>\n",
       "      <th>...</th>\n",
       "      <td>...</td>\n",
       "      <td>...</td>\n",
       "    </tr>\n",
       "    <tr>\n",
       "      <th>188</th>\n",
       "      <td>젠틀레인 (Gentle Rain)</td>\n",
       "      <td>https://cdnimg.melon.co.kr/cm2/artistcrop/imag...</td>\n",
       "    </tr>\n",
       "    <tr>\n",
       "      <th>189</th>\n",
       "      <td>RIIZE</td>\n",
       "      <td>https://cdnimg.melon.co.kr/cm2/artistcrop/imag...</td>\n",
       "    </tr>\n",
       "    <tr>\n",
       "      <th>190</th>\n",
       "      <td>Matt Maltese</td>\n",
       "      <td>https://cdnimg.melon.co.kr/cm/artistcrop/image...</td>\n",
       "    </tr>\n",
       "    <tr>\n",
       "      <th>191</th>\n",
       "      <td>Chihiro Yamazaki+Route 14 Band</td>\n",
       "      <td>https://cdnimg.melon.co.kr/cm2/artistcrop/imag...</td>\n",
       "    </tr>\n",
       "    <tr>\n",
       "      <th>192</th>\n",
       "      <td>A-FUZZ (에이퍼즈)</td>\n",
       "      <td>https://cdnimg.melon.co.kr/cm2/artistcrop/imag...</td>\n",
       "    </tr>\n",
       "  </tbody>\n",
       "</table>\n",
       "<p>164 rows × 2 columns</p>\n",
       "</div>"
      ],
      "text/plain": [
       "                                 이름  \\\n",
       "0                             HYUN)   \n",
       "1                         IVE (아이브)   \n",
       "2                               박서준   \n",
       "3                               이준형   \n",
       "4                       쿠기 (Coogie)   \n",
       "..                              ...   \n",
       "188              젠틀레인 (Gentle Rain)   \n",
       "189                           RIIZE   \n",
       "190                    Matt Maltese   \n",
       "191  Chihiro Yamazaki+Route 14 Band   \n",
       "192                   A-FUZZ (에이퍼즈)   \n",
       "\n",
       "                                                   URL  \n",
       "0    https://cdnimg.melon.co.kr/cm2/artistcrop/imag...  \n",
       "1    https://cdnimg.melon.co.kr/cm2/artistcrop/imag...  \n",
       "2    https://cdnimg.melon.co.kr/cm/artistcrop/image...  \n",
       "3    https://cdnimg.melon.co.kr/cm2/artistcrop/imag...  \n",
       "4    https://cdnimg.melon.co.kr/cm2/artistcrop/imag...  \n",
       "..                                                 ...  \n",
       "188  https://cdnimg.melon.co.kr/cm2/artistcrop/imag...  \n",
       "189  https://cdnimg.melon.co.kr/cm2/artistcrop/imag...  \n",
       "190  https://cdnimg.melon.co.kr/cm/artistcrop/image...  \n",
       "191  https://cdnimg.melon.co.kr/cm2/artistcrop/imag...  \n",
       "192  https://cdnimg.melon.co.kr/cm2/artistcrop/imag...  \n",
       "\n",
       "[164 rows x 2 columns]"
      ]
     },
     "execution_count": 118,
     "metadata": {},
     "output_type": "execute_result"
    }
   ],
   "source": [
    "artist_melon"
   ]
  },
  {
   "cell_type": "code",
   "execution_count": 119,
   "id": "7607e5ad-13df-4966-bd6d-dd07a5c79527",
   "metadata": {},
   "outputs": [],
   "source": [
    "artist_melon.to_csv('../ticketMerge/artist_melon.csv')"
   ]
  },
  {
   "cell_type": "code",
   "execution_count": null,
   "id": "67c55cc7-44c1-44c6-889f-debb07e46f2f",
   "metadata": {},
   "outputs": [],
   "source": []
  },
  {
   "cell_type": "code",
   "execution_count": null,
   "id": "92b961f3-a8be-425b-9094-1b4e970cfa94",
   "metadata": {},
   "outputs": [],
   "source": []
  },
  {
   "cell_type": "code",
   "execution_count": null,
   "id": "c3bb4f85-f490-426d-818d-006b9e33348b",
   "metadata": {},
   "outputs": [],
   "source": []
  },
  {
   "cell_type": "code",
   "execution_count": null,
   "id": "000e3576-bfef-424f-9987-15acc00facaa",
   "metadata": {},
   "outputs": [],
   "source": []
  },
  {
   "cell_type": "code",
   "execution_count": null,
   "id": "358f859d-42c3-4f3a-9fb9-cbb56f9df41f",
   "metadata": {},
   "outputs": [],
   "source": []
  },
  {
   "cell_type": "code",
   "execution_count": null,
   "id": "83f86179-80e5-4bbe-9b4b-b49ca1dc2548",
   "metadata": {},
   "outputs": [],
   "source": []
  },
  {
   "cell_type": "code",
   "execution_count": null,
   "id": "8ac79e66-e662-4208-b75c-8c2d5f9fa53a",
   "metadata": {},
   "outputs": [],
   "source": []
  },
  {
   "cell_type": "code",
   "execution_count": null,
   "id": "c3434c72-14c8-413d-8586-97a7343b5a24",
   "metadata": {},
   "outputs": [],
   "source": []
  },
  {
   "cell_type": "code",
   "execution_count": null,
   "id": "7da54f0d-0ce4-44c6-9c46-008153972e8a",
   "metadata": {},
   "outputs": [],
   "source": []
  },
  {
   "cell_type": "code",
   "execution_count": null,
   "id": "7f7d5aee-09e1-4bf7-8d9d-3f3e0993dfec",
   "metadata": {},
   "outputs": [],
   "source": []
  },
  {
   "cell_type": "code",
   "execution_count": null,
   "id": "4af09a81-1c9a-491b-8036-f9e4f2385445",
   "metadata": {},
   "outputs": [],
   "source": []
  },
  {
   "cell_type": "code",
   "execution_count": null,
   "id": "c3c73a2d-2294-44aa-a4cd-145b681625f8",
   "metadata": {},
   "outputs": [],
   "source": []
  },
  {
   "cell_type": "code",
   "execution_count": null,
   "id": "5aa62b3e-c0c4-48b9-a81b-75479e98f4fa",
   "metadata": {},
   "outputs": [],
   "source": []
  },
  {
   "cell_type": "code",
   "execution_count": null,
   "id": "adad5d49-502f-4a17-9364-9cbe1090dfe5",
   "metadata": {},
   "outputs": [],
   "source": []
  },
  {
   "cell_type": "code",
   "execution_count": null,
   "id": "c9105198-68cc-4d1d-b681-0d3602b7d2a3",
   "metadata": {},
   "outputs": [],
   "source": []
  },
  {
   "cell_type": "code",
   "execution_count": null,
   "id": "5347e482-d9d0-4429-b52a-7090d5889a52",
   "metadata": {},
   "outputs": [],
   "source": []
  },
  {
   "cell_type": "code",
   "execution_count": null,
   "id": "982eb8cd-7cbb-4169-a59a-df3f1b921122",
   "metadata": {},
   "outputs": [],
   "source": []
  },
  {
   "cell_type": "code",
   "execution_count": null,
   "id": "88cc1ea2-eb63-4766-996c-ba7e126ca3ce",
   "metadata": {},
   "outputs": [],
   "source": []
  },
  {
   "cell_type": "code",
   "execution_count": null,
   "id": "0051d397-7b34-47c8-97e3-fdca6b673b84",
   "metadata": {},
   "outputs": [],
   "source": []
  },
  {
   "cell_type": "code",
   "execution_count": null,
   "id": "dcd1bb88-c03a-4eb8-9c48-d0c0ec18bc8b",
   "metadata": {},
   "outputs": [],
   "source": []
  },
  {
   "cell_type": "code",
   "execution_count": null,
   "id": "ce76f283-21bc-4775-a922-049d826cbdd4",
   "metadata": {},
   "outputs": [],
   "source": []
  },
  {
   "cell_type": "code",
   "execution_count": null,
   "id": "a27e5762-2495-45a4-a4c5-ccb70e3e4c62",
   "metadata": {},
   "outputs": [],
   "source": []
  },
  {
   "cell_type": "code",
   "execution_count": null,
   "id": "7f495919-8464-471b-a1a6-b0fcdf7efa64",
   "metadata": {},
   "outputs": [],
   "source": []
  },
  {
   "cell_type": "code",
   "execution_count": null,
   "id": "36ca1cf6-c9b4-4d42-be2e-f0a53b44b435",
   "metadata": {},
   "outputs": [],
   "source": []
  }
 ],
 "metadata": {
  "kernelspec": {
   "display_name": "Python 3 (ipykernel)",
   "language": "python",
   "name": "python3"
  },
  "language_info": {
   "codemirror_mode": {
    "name": "ipython",
    "version": 3
   },
   "file_extension": ".py",
   "mimetype": "text/x-python",
   "name": "python",
   "nbconvert_exporter": "python",
   "pygments_lexer": "ipython3",
   "version": "3.11.7"
  }
 },
 "nbformat": 4,
 "nbformat_minor": 5
}
